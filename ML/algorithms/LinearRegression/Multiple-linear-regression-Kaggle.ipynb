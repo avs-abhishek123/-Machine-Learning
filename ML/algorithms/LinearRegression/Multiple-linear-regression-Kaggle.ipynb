{
 "cells": [
  {
   "cell_type": "markdown",
   "id": "a41cafe8",
   "metadata": {
    "papermill": {
     "duration": 0.015757,
     "end_time": "2023-01-10T15:15:48.540445",
     "exception": false,
     "start_time": "2023-01-10T15:15:48.524688",
     "status": "completed"
    },
    "tags": []
   },
   "source": [
    "<center><h1 style=\"color: purple; font-size: 80px;\"><b><u> Multiple Linear Regression </u></b></h1></center>"
   ]
  },
  {
   "cell_type": "markdown",
   "id": "40f75348",
   "metadata": {
    "papermill": {
     "duration": 0.01491,
     "end_time": "2023-01-10T15:15:48.569212",
     "exception": false,
     "start_time": "2023-01-10T15:15:48.554302",
     "status": "completed"
    },
    "tags": []
   },
   "source": [
    "![](https://github.com/avs-abhishek123/Machine-Learning/blob/main/images/sample_images/Multiple%20Linear%20Regression.png?raw=true)"
   ]
  },
  {
   "cell_type": "markdown",
   "id": "28876ce6",
   "metadata": {
    "papermill": {
     "duration": 0.012885,
     "end_time": "2023-01-10T15:15:48.595342",
     "exception": false,
     "start_time": "2023-01-10T15:15:48.582457",
     "status": "completed"
    },
    "tags": []
   },
   "source": [
    "<h2 style =\"color:red; font-size: 28px;\">\n",
    "<b>\n",
    "Table of Contents\n",
    "</b>\n",
    "</h2>\n"
   ]
  },
  {
   "cell_type": "markdown",
   "id": "ca5ae100",
   "metadata": {
    "papermill": {
     "duration": 0.013119,
     "end_time": "2023-01-10T15:15:48.621722",
     "exception": false,
     "start_time": "2023-01-10T15:15:48.608603",
     "status": "completed"
    },
    "tags": []
   },
   "source": [
    "\n",
    "- Introduction\n",
    "- Working with Dataset\n",
    "- Define X and Y\n",
    "- Perform One-Hot Encoding\n",
    "- Change columns using Column Transformer\n",
    "- Split the dataset into train set and test set\n",
    "- Train the model\n",
    "- Predict the test Results\n",
    "- Evaluate the model\n",
    "- Plot the Results\n",
    "- Predicted Values\n"
   ]
  },
  {
   "cell_type": "markdown",
   "id": "63feb472",
   "metadata": {
    "papermill": {
     "duration": 0.012898,
     "end_time": "2023-01-10T15:15:48.647942",
     "exception": false,
     "start_time": "2023-01-10T15:15:48.635044",
     "status": "completed"
    },
    "tags": []
   },
   "source": [
    "<hr style =\"border: 10px solid purple; border-radius: 5px;\">"
   ]
  },
  {
   "cell_type": "markdown",
   "id": "e902b2c3",
   "metadata": {
    "papermill": {
     "duration": 0.014541,
     "end_time": "2023-01-10T15:15:48.676062",
     "exception": false,
     "start_time": "2023-01-10T15:15:48.661521",
     "status": "completed"
    },
    "tags": []
   },
   "source": [
    "<h2 style =\"color:red; font-size: 28px;\">\n",
    "<b>\n",
    "Introduction\n",
    "</b>\n",
    "</h2>\n"
   ]
  },
  {
   "cell_type": "markdown",
   "id": "5b174a3b",
   "metadata": {
    "papermill": {
     "duration": 0.012903,
     "end_time": "2023-01-10T15:15:48.702609",
     "exception": false,
     "start_time": "2023-01-10T15:15:48.689706",
     "status": "completed"
    },
    "tags": []
   },
   "source": [
    "In this article, we will be dealing with multi-linear regression, and we will take a dataset that contains information about 50 startups. Features include R&D Spend, Administration, Marketing Spend, State, and finally, Profit. Here we have to build the machine learning model to predict the profit of the startups.\n",
    "\n",
    "Multiple Linear Regression is a machine learning algorithm where we provide multiple independent variables for a single dependent variable. However, linear regression only requires one independent variable as input.\n",
    "\n",
    "\n"
   ]
  },
  {
   "cell_type": "markdown",
   "id": "614590f7",
   "metadata": {
    "papermill": {
     "duration": 0.012971,
     "end_time": "2023-01-10T15:15:48.728895",
     "exception": false,
     "start_time": "2023-01-10T15:15:48.715924",
     "status": "completed"
    },
    "tags": []
   },
   "source": [
    "<hr style =\"border: 10px solid purple; border-radius: 5px;\">"
   ]
  },
  {
   "cell_type": "markdown",
   "id": "34d985c2",
   "metadata": {
    "papermill": {
     "duration": 0.013004,
     "end_time": "2023-01-10T15:15:48.755101",
     "exception": false,
     "start_time": "2023-01-10T15:15:48.742097",
     "status": "completed"
    },
    "tags": []
   },
   "source": [
    "<h2 style =\"color:red; font-size: 28px;\">\n",
    "<b>\n",
    "Working with Dataset\n",
    "</b>\n",
    "</h2>\n"
   ]
  },
  {
   "cell_type": "markdown",
   "id": "0aeb803d",
   "metadata": {
    "papermill": {
     "duration": 0.01294,
     "end_time": "2023-01-10T15:15:48.781308",
     "exception": false,
     "start_time": "2023-01-10T15:15:48.768368",
     "status": "completed"
    },
    "tags": []
   },
   "source": [
    "<h3 style=\"color: blue; font-size: 22px;\">\n",
    "    <b>\n",
    "        <u>\n",
    "            Load all necessary libraries \n",
    "        </u>\n",
    "    </b>\n",
    "</h3>"
   ]
  },
  {
   "cell_type": "markdown",
   "id": "26b4715b",
   "metadata": {
    "papermill": {
     "duration": 0.012897,
     "end_time": "2023-01-10T15:15:48.807560",
     "exception": false,
     "start_time": "2023-01-10T15:15:48.794663",
     "status": "completed"
    },
    "tags": []
   },
   "source": [
    "Import train_test_split to split the dataset into training and testing datasets. And Linear Regression is the model on which we have to work. Import this model from scikit learn library. r2_score is to find the accuracy of the model. Matplotlib and seaborn are used for visualizations. Finally, import warnings and set it to ignore so that it will ignore all the warnings that we will come throughout.\n",
    "\n"
   ]
  },
  {
   "cell_type": "code",
   "execution_count": 1,
   "id": "606afdf9",
   "metadata": {
    "execution": {
     "iopub.execute_input": "2023-01-10T15:15:48.843576Z",
     "iopub.status.busy": "2023-01-10T15:15:48.842824Z",
     "iopub.status.idle": "2023-01-10T15:15:50.534522Z",
     "shell.execute_reply": "2023-01-10T15:15:50.533182Z"
    },
    "papermill": {
     "duration": 1.71607,
     "end_time": "2023-01-10T15:15:50.537567",
     "exception": false,
     "start_time": "2023-01-10T15:15:48.821497",
     "status": "completed"
    },
    "tags": []
   },
   "outputs": [],
   "source": [
    "import numpy as np\n",
    "import pandas as pd\n",
    "from sklearn.model_selection import train_test_split\n",
    "from sklearn.linear_model import LinearRegression\n",
    "from sklearn.metrics import r2_score\n",
    "import matplotlib.pyplot as plt\n",
    "import seaborn as sns\n",
    "import warnings\n",
    "warnings.filterwarnings(\"ignore\")"
   ]
  },
  {
   "cell_type": "markdown",
   "id": "be1f5187",
   "metadata": {
    "papermill": {
     "duration": 0.013818,
     "end_time": "2023-01-10T15:15:50.564874",
     "exception": false,
     "start_time": "2023-01-10T15:15:50.551056",
     "status": "completed"
    },
    "tags": []
   },
   "source": [
    "Here is the link for the dataset. Download it and import it by passing the path of the dataset file into read_csv().\n",
    "[Dataset Link](https://www.kaggle.com/datasets/abhishek14398/50startups)"
   ]
  },
  {
   "cell_type": "code",
   "execution_count": 2,
   "id": "8f498f9e",
   "metadata": {
    "execution": {
     "iopub.execute_input": "2023-01-10T15:15:50.594136Z",
     "iopub.status.busy": "2023-01-10T15:15:50.593710Z",
     "iopub.status.idle": "2023-01-10T15:15:50.622728Z",
     "shell.execute_reply": "2023-01-10T15:15:50.621353Z"
    },
    "papermill": {
     "duration": 0.047274,
     "end_time": "2023-01-10T15:15:50.625995",
     "exception": false,
     "start_time": "2023-01-10T15:15:50.578721",
     "status": "completed"
    },
    "tags": []
   },
   "outputs": [],
   "source": [
    "#import dataset\n",
    "startup_df=pd.read_csv(r'/kaggle/input/50startups/50_Startups_dataset.csv')\n",
    "startup_df.drop(columns=startup_df.columns[0], axis=1, inplace=True)\n",
    "\n"
   ]
  },
  {
   "cell_type": "code",
   "execution_count": 3,
   "id": "fa9f53ec",
   "metadata": {
    "execution": {
     "iopub.execute_input": "2023-01-10T15:15:50.656571Z",
     "iopub.status.busy": "2023-01-10T15:15:50.655042Z",
     "iopub.status.idle": "2023-01-10T15:15:50.669577Z",
     "shell.execute_reply": "2023-01-10T15:15:50.668062Z"
    },
    "papermill": {
     "duration": 0.03239,
     "end_time": "2023-01-10T15:15:50.672402",
     "exception": false,
     "start_time": "2023-01-10T15:15:50.640012",
     "status": "completed"
    },
    "tags": []
   },
   "outputs": [
    {
     "name": "stdout",
     "output_type": "stream",
     "text": [
      "   R&D Spend  Administration  Marketing Spend       State     Profit\n",
      "0  165349.30       136897.90        471784.20    New York  192261.93\n",
      "1  162597.80       151377.69        443898.63  California  191792.16\n",
      "2  153441.61       101145.65        407934.64     Florida  191050.49\n",
      "3  144372.51       118671.95        383199.72    New York  182902.09\n",
      "4  142107.44        91391.87        366168.52     Florida  166188.04\n"
     ]
    }
   ],
   "source": [
    "print(startup_df.head())"
   ]
  },
  {
   "cell_type": "markdown",
   "id": "64b3f3be",
   "metadata": {
    "papermill": {
     "duration": 0.013292,
     "end_time": "2023-01-10T15:15:50.699228",
     "exception": false,
     "start_time": "2023-01-10T15:15:50.685936",
     "status": "completed"
    },
    "tags": []
   },
   "source": [
    "View the shape of the data frame.\n",
    "\n"
   ]
  },
  {
   "cell_type": "code",
   "execution_count": 4,
   "id": "3f8b2ff3",
   "metadata": {
    "execution": {
     "iopub.execute_input": "2023-01-10T15:15:50.728438Z",
     "iopub.status.busy": "2023-01-10T15:15:50.727935Z",
     "iopub.status.idle": "2023-01-10T15:15:50.735453Z",
     "shell.execute_reply": "2023-01-10T15:15:50.733813Z"
    },
    "papermill": {
     "duration": 0.026474,
     "end_time": "2023-01-10T15:15:50.739222",
     "exception": false,
     "start_time": "2023-01-10T15:15:50.712748",
     "status": "completed"
    },
    "tags": []
   },
   "outputs": [
    {
     "name": "stdout",
     "output_type": "stream",
     "text": [
      "Dataset contains 50 rows and 5 columns\n"
     ]
    }
   ],
   "source": [
    "shape=startup_df.shape\n",
    "print(\"Dataset contains {} rows and {} columns\".format(shape[0],shape[1]))"
   ]
  },
  {
   "cell_type": "markdown",
   "id": "df8276e6",
   "metadata": {
    "papermill": {
     "duration": 0.013558,
     "end_time": "2023-01-10T15:15:50.767648",
     "exception": false,
     "start_time": "2023-01-10T15:15:50.754090",
     "status": "completed"
    },
    "tags": []
   },
   "source": [
    "View all the columns in the data frame."
   ]
  },
  {
   "cell_type": "code",
   "execution_count": 5,
   "id": "5154f816",
   "metadata": {
    "execution": {
     "iopub.execute_input": "2023-01-10T15:15:50.799681Z",
     "iopub.status.busy": "2023-01-10T15:15:50.798767Z",
     "iopub.status.idle": "2023-01-10T15:15:50.809494Z",
     "shell.execute_reply": "2023-01-10T15:15:50.808095Z"
    },
    "papermill": {
     "duration": 0.029763,
     "end_time": "2023-01-10T15:15:50.812199",
     "exception": false,
     "start_time": "2023-01-10T15:15:50.782436",
     "status": "completed"
    },
    "tags": []
   },
   "outputs": [
    {
     "data": {
      "text/plain": [
       "Index(['R&D Spend', 'Administration', 'Marketing Spend', 'State', 'Profit'], dtype='object')"
      ]
     },
     "execution_count": 5,
     "metadata": {},
     "output_type": "execute_result"
    }
   ],
   "source": [
    "startup_df.columns\n"
   ]
  },
  {
   "cell_type": "markdown",
   "id": "7994fd6c",
   "metadata": {
    "papermill": {
     "duration": 0.01349,
     "end_time": "2023-01-10T15:15:50.839365",
     "exception": false,
     "start_time": "2023-01-10T15:15:50.825875",
     "status": "completed"
    },
    "tags": []
   },
   "source": [
    "Data frame contains R&D Spend, Administration, Marketing Spend, State, and Profit.\n",
    "\n",
    "View the statistical description of the dataset which includes the total count of each column, mean of all values, standard deviation, minimum, maximum values, and 25th, 50th, 75th per cent values of the dataset."
   ]
  },
  {
   "cell_type": "code",
   "execution_count": 6,
   "id": "fccde8e3",
   "metadata": {
    "execution": {
     "iopub.execute_input": "2023-01-10T15:15:50.868627Z",
     "iopub.status.busy": "2023-01-10T15:15:50.868225Z",
     "iopub.status.idle": "2023-01-10T15:15:50.902248Z",
     "shell.execute_reply": "2023-01-10T15:15:50.900926Z"
    },
    "papermill": {
     "duration": 0.051786,
     "end_time": "2023-01-10T15:15:50.904904",
     "exception": false,
     "start_time": "2023-01-10T15:15:50.853118",
     "status": "completed"
    },
    "tags": []
   },
   "outputs": [
    {
     "data": {
      "text/html": [
       "<div>\n",
       "<style scoped>\n",
       "    .dataframe tbody tr th:only-of-type {\n",
       "        vertical-align: middle;\n",
       "    }\n",
       "\n",
       "    .dataframe tbody tr th {\n",
       "        vertical-align: top;\n",
       "    }\n",
       "\n",
       "    .dataframe thead th {\n",
       "        text-align: right;\n",
       "    }\n",
       "</style>\n",
       "<table border=\"1\" class=\"dataframe\">\n",
       "  <thead>\n",
       "    <tr style=\"text-align: right;\">\n",
       "      <th></th>\n",
       "      <th>R&amp;D Spend</th>\n",
       "      <th>Administration</th>\n",
       "      <th>Marketing Spend</th>\n",
       "      <th>Profit</th>\n",
       "    </tr>\n",
       "  </thead>\n",
       "  <tbody>\n",
       "    <tr>\n",
       "      <th>count</th>\n",
       "      <td>50.000000</td>\n",
       "      <td>50.000000</td>\n",
       "      <td>50.000000</td>\n",
       "      <td>50.000000</td>\n",
       "    </tr>\n",
       "    <tr>\n",
       "      <th>mean</th>\n",
       "      <td>73721.715600</td>\n",
       "      <td>121344.739600</td>\n",
       "      <td>211025.197800</td>\n",
       "      <td>112012.739200</td>\n",
       "    </tr>\n",
       "    <tr>\n",
       "      <th>std</th>\n",
       "      <td>45902.256482</td>\n",
       "      <td>28017.802755</td>\n",
       "      <td>122290.310726</td>\n",
       "      <td>40306.180338</td>\n",
       "    </tr>\n",
       "    <tr>\n",
       "      <th>min</th>\n",
       "      <td>0.100000</td>\n",
       "      <td>51283.240000</td>\n",
       "      <td>0.100000</td>\n",
       "      <td>14681.500000</td>\n",
       "    </tr>\n",
       "    <tr>\n",
       "      <th>25%</th>\n",
       "      <td>39936.470000</td>\n",
       "      <td>103730.975000</td>\n",
       "      <td>129300.232500</td>\n",
       "      <td>90139.002500</td>\n",
       "    </tr>\n",
       "    <tr>\n",
       "      <th>50%</th>\n",
       "      <td>73051.180000</td>\n",
       "      <td>122699.895000</td>\n",
       "      <td>212716.340000</td>\n",
       "      <td>107978.290000</td>\n",
       "    </tr>\n",
       "    <tr>\n",
       "      <th>75%</th>\n",
       "      <td>101602.900000</td>\n",
       "      <td>144842.280000</td>\n",
       "      <td>299469.185000</td>\n",
       "      <td>139766.077500</td>\n",
       "    </tr>\n",
       "    <tr>\n",
       "      <th>max</th>\n",
       "      <td>165349.300000</td>\n",
       "      <td>182645.660000</td>\n",
       "      <td>471784.200000</td>\n",
       "      <td>192261.930000</td>\n",
       "    </tr>\n",
       "  </tbody>\n",
       "</table>\n",
       "</div>"
      ],
      "text/plain": [
       "           R&D Spend  Administration  Marketing Spend         Profit\n",
       "count      50.000000       50.000000        50.000000      50.000000\n",
       "mean    73721.715600   121344.739600    211025.197800  112012.739200\n",
       "std     45902.256482    28017.802755    122290.310726   40306.180338\n",
       "min         0.100000    51283.240000         0.100000   14681.500000\n",
       "25%     39936.470000   103730.975000    129300.232500   90139.002500\n",
       "50%     73051.180000   122699.895000    212716.340000  107978.290000\n",
       "75%    101602.900000   144842.280000    299469.185000  139766.077500\n",
       "max    165349.300000   182645.660000    471784.200000  192261.930000"
      ]
     },
     "execution_count": 6,
     "metadata": {},
     "output_type": "execute_result"
    }
   ],
   "source": [
    "#Statistical Details of the dataset\n",
    "startup_df.describe()"
   ]
  },
  {
   "cell_type": "markdown",
   "id": "ff8f669b",
   "metadata": {
    "papermill": {
     "duration": 0.015307,
     "end_time": "2023-01-10T15:15:50.937693",
     "exception": false,
     "start_time": "2023-01-10T15:15:50.922386",
     "status": "completed"
    },
    "tags": []
   },
   "source": [
    "<hr style =\"border: 10px solid purple; border-radius: 5px;\">"
   ]
  },
  {
   "cell_type": "markdown",
   "id": "324f921c",
   "metadata": {
    "papermill": {
     "duration": 0.014049,
     "end_time": "2023-01-10T15:15:50.966017",
     "exception": false,
     "start_time": "2023-01-10T15:15:50.951968",
     "status": "completed"
    },
    "tags": []
   },
   "source": [
    "<h2 style =\"color:red; font-size: 28px;\">\n",
    "<b>\n",
    "Define X and Y\n",
    "</b>\n",
    "</h2>\n"
   ]
  },
  {
   "cell_type": "markdown",
   "id": "b2e979e7",
   "metadata": {
    "papermill": {
     "duration": 0.014327,
     "end_time": "2023-01-10T15:15:50.994696",
     "exception": false,
     "start_time": "2023-01-10T15:15:50.980369",
     "status": "completed"
    },
    "tags": []
   },
   "source": [
    "This is like extracting dependent and independent variables.\n",
    "\n",
    "We have to define x and y for the model. x and y are input and output features of the dataset. So taking x features as input values that are independent, our model will predict the outcome which is y that are dependent."
   ]
  },
  {
   "cell_type": "code",
   "execution_count": 7,
   "id": "a9f2423f",
   "metadata": {
    "execution": {
     "iopub.execute_input": "2023-01-10T15:15:51.024988Z",
     "iopub.status.busy": "2023-01-10T15:15:51.024428Z",
     "iopub.status.idle": "2023-01-10T15:15:51.030514Z",
     "shell.execute_reply": "2023-01-10T15:15:51.029420Z"
    },
    "papermill": {
     "duration": 0.024281,
     "end_time": "2023-01-10T15:15:51.032862",
     "exception": false,
     "start_time": "2023-01-10T15:15:51.008581",
     "status": "completed"
    },
    "tags": []
   },
   "outputs": [],
   "source": [
    "x=startup_df.iloc[:,:4]\n",
    "y=startup_df.iloc[:,4]"
   ]
  },
  {
   "cell_type": "code",
   "execution_count": 8,
   "id": "7b6c9d3f",
   "metadata": {
    "execution": {
     "iopub.execute_input": "2023-01-10T15:15:51.064870Z",
     "iopub.status.busy": "2023-01-10T15:15:51.063879Z",
     "iopub.status.idle": "2023-01-10T15:15:51.093508Z",
     "shell.execute_reply": "2023-01-10T15:15:51.092336Z"
    },
    "papermill": {
     "duration": 0.049301,
     "end_time": "2023-01-10T15:15:51.096604",
     "exception": false,
     "start_time": "2023-01-10T15:15:51.047303",
     "status": "completed"
    },
    "tags": []
   },
   "outputs": [
    {
     "data": {
      "text/html": [
       "<div>\n",
       "<style scoped>\n",
       "    .dataframe tbody tr th:only-of-type {\n",
       "        vertical-align: middle;\n",
       "    }\n",
       "\n",
       "    .dataframe tbody tr th {\n",
       "        vertical-align: top;\n",
       "    }\n",
       "\n",
       "    .dataframe thead th {\n",
       "        text-align: right;\n",
       "    }\n",
       "</style>\n",
       "<table border=\"1\" class=\"dataframe\">\n",
       "  <thead>\n",
       "    <tr style=\"text-align: right;\">\n",
       "      <th></th>\n",
       "      <th>R&amp;D Spend</th>\n",
       "      <th>Administration</th>\n",
       "      <th>Marketing Spend</th>\n",
       "      <th>State</th>\n",
       "    </tr>\n",
       "  </thead>\n",
       "  <tbody>\n",
       "    <tr>\n",
       "      <th>0</th>\n",
       "      <td>165349.30</td>\n",
       "      <td>136897.90</td>\n",
       "      <td>471784.20</td>\n",
       "      <td>New York</td>\n",
       "    </tr>\n",
       "    <tr>\n",
       "      <th>1</th>\n",
       "      <td>162597.80</td>\n",
       "      <td>151377.69</td>\n",
       "      <td>443898.63</td>\n",
       "      <td>California</td>\n",
       "    </tr>\n",
       "    <tr>\n",
       "      <th>2</th>\n",
       "      <td>153441.61</td>\n",
       "      <td>101145.65</td>\n",
       "      <td>407934.64</td>\n",
       "      <td>Florida</td>\n",
       "    </tr>\n",
       "    <tr>\n",
       "      <th>3</th>\n",
       "      <td>144372.51</td>\n",
       "      <td>118671.95</td>\n",
       "      <td>383199.72</td>\n",
       "      <td>New York</td>\n",
       "    </tr>\n",
       "    <tr>\n",
       "      <th>4</th>\n",
       "      <td>142107.44</td>\n",
       "      <td>91391.87</td>\n",
       "      <td>366168.52</td>\n",
       "      <td>Florida</td>\n",
       "    </tr>\n",
       "    <tr>\n",
       "      <th>5</th>\n",
       "      <td>131877.00</td>\n",
       "      <td>99814.81</td>\n",
       "      <td>362861.46</td>\n",
       "      <td>New York</td>\n",
       "    </tr>\n",
       "    <tr>\n",
       "      <th>6</th>\n",
       "      <td>134615.56</td>\n",
       "      <td>147198.97</td>\n",
       "      <td>127716.92</td>\n",
       "      <td>California</td>\n",
       "    </tr>\n",
       "    <tr>\n",
       "      <th>7</th>\n",
       "      <td>130298.23</td>\n",
       "      <td>145530.16</td>\n",
       "      <td>323876.78</td>\n",
       "      <td>Florida</td>\n",
       "    </tr>\n",
       "    <tr>\n",
       "      <th>8</th>\n",
       "      <td>120542.62</td>\n",
       "      <td>148719.05</td>\n",
       "      <td>311613.39</td>\n",
       "      <td>New York</td>\n",
       "    </tr>\n",
       "    <tr>\n",
       "      <th>9</th>\n",
       "      <td>123334.98</td>\n",
       "      <td>108679.27</td>\n",
       "      <td>304981.72</td>\n",
       "      <td>California</td>\n",
       "    </tr>\n",
       "    <tr>\n",
       "      <th>10</th>\n",
       "      <td>101913.18</td>\n",
       "      <td>110594.21</td>\n",
       "      <td>229161.05</td>\n",
       "      <td>Florida</td>\n",
       "    </tr>\n",
       "    <tr>\n",
       "      <th>11</th>\n",
       "      <td>100672.06</td>\n",
       "      <td>91790.71</td>\n",
       "      <td>249744.65</td>\n",
       "      <td>California</td>\n",
       "    </tr>\n",
       "    <tr>\n",
       "      <th>12</th>\n",
       "      <td>93863.85</td>\n",
       "      <td>127320.48</td>\n",
       "      <td>249839.54</td>\n",
       "      <td>Florida</td>\n",
       "    </tr>\n",
       "    <tr>\n",
       "      <th>13</th>\n",
       "      <td>91992.49</td>\n",
       "      <td>135495.17</td>\n",
       "      <td>252665.03</td>\n",
       "      <td>California</td>\n",
       "    </tr>\n",
       "    <tr>\n",
       "      <th>14</th>\n",
       "      <td>119943.34</td>\n",
       "      <td>156547.52</td>\n",
       "      <td>256513.02</td>\n",
       "      <td>Florida</td>\n",
       "    </tr>\n",
       "    <tr>\n",
       "      <th>15</th>\n",
       "      <td>114523.71</td>\n",
       "      <td>122616.94</td>\n",
       "      <td>261776.33</td>\n",
       "      <td>New York</td>\n",
       "    </tr>\n",
       "    <tr>\n",
       "      <th>16</th>\n",
       "      <td>78013.21</td>\n",
       "      <td>121597.65</td>\n",
       "      <td>264346.16</td>\n",
       "      <td>California</td>\n",
       "    </tr>\n",
       "    <tr>\n",
       "      <th>17</th>\n",
       "      <td>94657.26</td>\n",
       "      <td>145077.68</td>\n",
       "      <td>282574.41</td>\n",
       "      <td>New York</td>\n",
       "    </tr>\n",
       "    <tr>\n",
       "      <th>18</th>\n",
       "      <td>91749.26</td>\n",
       "      <td>114175.89</td>\n",
       "      <td>294919.67</td>\n",
       "      <td>Florida</td>\n",
       "    </tr>\n",
       "    <tr>\n",
       "      <th>19</th>\n",
       "      <td>86419.80</td>\n",
       "      <td>153514.21</td>\n",
       "      <td>0.10</td>\n",
       "      <td>New York</td>\n",
       "    </tr>\n",
       "    <tr>\n",
       "      <th>20</th>\n",
       "      <td>76253.96</td>\n",
       "      <td>113867.40</td>\n",
       "      <td>298664.57</td>\n",
       "      <td>California</td>\n",
       "    </tr>\n",
       "    <tr>\n",
       "      <th>21</th>\n",
       "      <td>78389.57</td>\n",
       "      <td>153773.53</td>\n",
       "      <td>299737.39</td>\n",
       "      <td>New York</td>\n",
       "    </tr>\n",
       "    <tr>\n",
       "      <th>22</th>\n",
       "      <td>73994.66</td>\n",
       "      <td>122782.85</td>\n",
       "      <td>303319.36</td>\n",
       "      <td>Florida</td>\n",
       "    </tr>\n",
       "    <tr>\n",
       "      <th>23</th>\n",
       "      <td>67532.63</td>\n",
       "      <td>105751.13</td>\n",
       "      <td>304768.83</td>\n",
       "      <td>Florida</td>\n",
       "    </tr>\n",
       "    <tr>\n",
       "      <th>24</th>\n",
       "      <td>77044.11</td>\n",
       "      <td>99281.44</td>\n",
       "      <td>140574.91</td>\n",
       "      <td>New York</td>\n",
       "    </tr>\n",
       "    <tr>\n",
       "      <th>25</th>\n",
       "      <td>64664.81</td>\n",
       "      <td>139553.26</td>\n",
       "      <td>137962.72</td>\n",
       "      <td>California</td>\n",
       "    </tr>\n",
       "    <tr>\n",
       "      <th>26</th>\n",
       "      <td>75328.97</td>\n",
       "      <td>144136.08</td>\n",
       "      <td>134050.17</td>\n",
       "      <td>Florida</td>\n",
       "    </tr>\n",
       "    <tr>\n",
       "      <th>27</th>\n",
       "      <td>72107.70</td>\n",
       "      <td>127864.65</td>\n",
       "      <td>353183.91</td>\n",
       "      <td>New York</td>\n",
       "    </tr>\n",
       "    <tr>\n",
       "      <th>28</th>\n",
       "      <td>66051.62</td>\n",
       "      <td>182645.66</td>\n",
       "      <td>118148.30</td>\n",
       "      <td>Florida</td>\n",
       "    </tr>\n",
       "    <tr>\n",
       "      <th>29</th>\n",
       "      <td>65605.58</td>\n",
       "      <td>153032.16</td>\n",
       "      <td>107138.48</td>\n",
       "      <td>New York</td>\n",
       "    </tr>\n",
       "    <tr>\n",
       "      <th>30</th>\n",
       "      <td>61994.58</td>\n",
       "      <td>115641.38</td>\n",
       "      <td>91131.34</td>\n",
       "      <td>Florida</td>\n",
       "    </tr>\n",
       "    <tr>\n",
       "      <th>31</th>\n",
       "      <td>61136.48</td>\n",
       "      <td>152702.02</td>\n",
       "      <td>88218.33</td>\n",
       "      <td>New York</td>\n",
       "    </tr>\n",
       "    <tr>\n",
       "      <th>32</th>\n",
       "      <td>63408.96</td>\n",
       "      <td>129219.71</td>\n",
       "      <td>46085.35</td>\n",
       "      <td>California</td>\n",
       "    </tr>\n",
       "    <tr>\n",
       "      <th>33</th>\n",
       "      <td>55494.05</td>\n",
       "      <td>103057.59</td>\n",
       "      <td>214634.91</td>\n",
       "      <td>Florida</td>\n",
       "    </tr>\n",
       "    <tr>\n",
       "      <th>34</th>\n",
       "      <td>46426.17</td>\n",
       "      <td>157694.02</td>\n",
       "      <td>210797.77</td>\n",
       "      <td>California</td>\n",
       "    </tr>\n",
       "    <tr>\n",
       "      <th>35</th>\n",
       "      <td>46014.12</td>\n",
       "      <td>85047.54</td>\n",
       "      <td>205517.74</td>\n",
       "      <td>New York</td>\n",
       "    </tr>\n",
       "    <tr>\n",
       "      <th>36</th>\n",
       "      <td>28663.86</td>\n",
       "      <td>127056.31</td>\n",
       "      <td>201126.92</td>\n",
       "      <td>Florida</td>\n",
       "    </tr>\n",
       "    <tr>\n",
       "      <th>37</th>\n",
       "      <td>44070.05</td>\n",
       "      <td>51283.24</td>\n",
       "      <td>197029.52</td>\n",
       "      <td>California</td>\n",
       "    </tr>\n",
       "    <tr>\n",
       "      <th>38</th>\n",
       "      <td>20229.69</td>\n",
       "      <td>65948.03</td>\n",
       "      <td>185265.20</td>\n",
       "      <td>New York</td>\n",
       "    </tr>\n",
       "    <tr>\n",
       "      <th>39</th>\n",
       "      <td>38558.61</td>\n",
       "      <td>82982.19</td>\n",
       "      <td>174999.40</td>\n",
       "      <td>California</td>\n",
       "    </tr>\n",
       "    <tr>\n",
       "      <th>40</th>\n",
       "      <td>28754.43</td>\n",
       "      <td>118546.15</td>\n",
       "      <td>172795.77</td>\n",
       "      <td>California</td>\n",
       "    </tr>\n",
       "    <tr>\n",
       "      <th>41</th>\n",
       "      <td>27893.02</td>\n",
       "      <td>84710.87</td>\n",
       "      <td>164470.81</td>\n",
       "      <td>Florida</td>\n",
       "    </tr>\n",
       "    <tr>\n",
       "      <th>42</th>\n",
       "      <td>23641.03</td>\n",
       "      <td>96189.73</td>\n",
       "      <td>148001.21</td>\n",
       "      <td>California</td>\n",
       "    </tr>\n",
       "    <tr>\n",
       "      <th>43</th>\n",
       "      <td>15505.83</td>\n",
       "      <td>127382.40</td>\n",
       "      <td>35534.27</td>\n",
       "      <td>New York</td>\n",
       "    </tr>\n",
       "    <tr>\n",
       "      <th>44</th>\n",
       "      <td>22177.84</td>\n",
       "      <td>154806.24</td>\n",
       "      <td>28334.82</td>\n",
       "      <td>California</td>\n",
       "    </tr>\n",
       "    <tr>\n",
       "      <th>45</th>\n",
       "      <td>1000.33</td>\n",
       "      <td>124153.14</td>\n",
       "      <td>1904.03</td>\n",
       "      <td>New York</td>\n",
       "    </tr>\n",
       "    <tr>\n",
       "      <th>46</th>\n",
       "      <td>1315.56</td>\n",
       "      <td>115816.31</td>\n",
       "      <td>297114.56</td>\n",
       "      <td>Florida</td>\n",
       "    </tr>\n",
       "    <tr>\n",
       "      <th>47</th>\n",
       "      <td>0.10</td>\n",
       "      <td>135427.02</td>\n",
       "      <td>0.10</td>\n",
       "      <td>California</td>\n",
       "    </tr>\n",
       "    <tr>\n",
       "      <th>48</th>\n",
       "      <td>542.15</td>\n",
       "      <td>51743.25</td>\n",
       "      <td>0.10</td>\n",
       "      <td>New York</td>\n",
       "    </tr>\n",
       "    <tr>\n",
       "      <th>49</th>\n",
       "      <td>0.10</td>\n",
       "      <td>116983.90</td>\n",
       "      <td>45173.16</td>\n",
       "      <td>California</td>\n",
       "    </tr>\n",
       "  </tbody>\n",
       "</table>\n",
       "</div>"
      ],
      "text/plain": [
       "    R&D Spend  Administration  Marketing Spend       State\n",
       "0   165349.30       136897.90        471784.20    New York\n",
       "1   162597.80       151377.69        443898.63  California\n",
       "2   153441.61       101145.65        407934.64     Florida\n",
       "3   144372.51       118671.95        383199.72    New York\n",
       "4   142107.44        91391.87        366168.52     Florida\n",
       "5   131877.00        99814.81        362861.46    New York\n",
       "6   134615.56       147198.97        127716.92  California\n",
       "7   130298.23       145530.16        323876.78     Florida\n",
       "8   120542.62       148719.05        311613.39    New York\n",
       "9   123334.98       108679.27        304981.72  California\n",
       "10  101913.18       110594.21        229161.05     Florida\n",
       "11  100672.06        91790.71        249744.65  California\n",
       "12   93863.85       127320.48        249839.54     Florida\n",
       "13   91992.49       135495.17        252665.03  California\n",
       "14  119943.34       156547.52        256513.02     Florida\n",
       "15  114523.71       122616.94        261776.33    New York\n",
       "16   78013.21       121597.65        264346.16  California\n",
       "17   94657.26       145077.68        282574.41    New York\n",
       "18   91749.26       114175.89        294919.67     Florida\n",
       "19   86419.80       153514.21             0.10    New York\n",
       "20   76253.96       113867.40        298664.57  California\n",
       "21   78389.57       153773.53        299737.39    New York\n",
       "22   73994.66       122782.85        303319.36     Florida\n",
       "23   67532.63       105751.13        304768.83     Florida\n",
       "24   77044.11        99281.44        140574.91    New York\n",
       "25   64664.81       139553.26        137962.72  California\n",
       "26   75328.97       144136.08        134050.17     Florida\n",
       "27   72107.70       127864.65        353183.91    New York\n",
       "28   66051.62       182645.66        118148.30     Florida\n",
       "29   65605.58       153032.16        107138.48    New York\n",
       "30   61994.58       115641.38         91131.34     Florida\n",
       "31   61136.48       152702.02         88218.33    New York\n",
       "32   63408.96       129219.71         46085.35  California\n",
       "33   55494.05       103057.59        214634.91     Florida\n",
       "34   46426.17       157694.02        210797.77  California\n",
       "35   46014.12        85047.54        205517.74    New York\n",
       "36   28663.86       127056.31        201126.92     Florida\n",
       "37   44070.05        51283.24        197029.52  California\n",
       "38   20229.69        65948.03        185265.20    New York\n",
       "39   38558.61        82982.19        174999.40  California\n",
       "40   28754.43       118546.15        172795.77  California\n",
       "41   27893.02        84710.87        164470.81     Florida\n",
       "42   23641.03        96189.73        148001.21  California\n",
       "43   15505.83       127382.40         35534.27    New York\n",
       "44   22177.84       154806.24         28334.82  California\n",
       "45    1000.33       124153.14          1904.03    New York\n",
       "46    1315.56       115816.31        297114.56     Florida\n",
       "47       0.10       135427.02             0.10  California\n",
       "48     542.15        51743.25             0.10    New York\n",
       "49       0.10       116983.90         45173.16  California"
      ]
     },
     "execution_count": 8,
     "metadata": {},
     "output_type": "execute_result"
    }
   ],
   "source": [
    "x"
   ]
  },
  {
   "cell_type": "markdown",
   "id": "73ed35f4",
   "metadata": {
    "papermill": {
     "duration": 0.015583,
     "end_time": "2023-01-10T15:15:51.126986",
     "exception": false,
     "start_time": "2023-01-10T15:15:51.111403",
     "status": "completed"
    },
    "tags": []
   },
   "source": [
    "<hr style =\"border: 10px solid purple; border-radius: 5px;\">"
   ]
  },
  {
   "cell_type": "markdown",
   "id": "6b7240b9",
   "metadata": {
    "papermill": {
     "duration": 0.015059,
     "end_time": "2023-01-10T15:15:51.156969",
     "exception": false,
     "start_time": "2023-01-10T15:15:51.141910",
     "status": "completed"
    },
    "tags": []
   },
   "source": [
    "<h2 style =\"color:red; font-size: 28px;\">\n",
    "<b>\n",
    "Perform One-Hot Encoding\n",
    "</b>\n",
    "</h2>\n"
   ]
  },
  {
   "cell_type": "markdown",
   "id": "414bd8b0",
   "metadata": {
    "papermill": {
     "duration": 0.014136,
     "end_time": "2023-01-10T15:15:51.185984",
     "exception": false,
     "start_time": "2023-01-10T15:15:51.171848",
     "status": "completed"
    },
    "tags": []
   },
   "source": [
    "We use one-hot encoding when there are categorical values in our dataset. Here for us, there is a state column that is categorical, so we have to use one-hot encoding to convert them.\n",
    "\n",
    "So, import One-HotEncoder from scikit learn library."
   ]
  },
  {
   "cell_type": "code",
   "execution_count": 9,
   "id": "60895662",
   "metadata": {
    "execution": {
     "iopub.execute_input": "2023-01-10T15:15:51.217421Z",
     "iopub.status.busy": "2023-01-10T15:15:51.216562Z",
     "iopub.status.idle": "2023-01-10T15:15:51.225927Z",
     "shell.execute_reply": "2023-01-10T15:15:51.224376Z"
    },
    "papermill": {
     "duration": 0.028848,
     "end_time": "2023-01-10T15:15:51.229164",
     "exception": false,
     "start_time": "2023-01-10T15:15:51.200316",
     "status": "completed"
    },
    "tags": []
   },
   "outputs": [],
   "source": [
    "from sklearn.preprocessing import OneHotEncoder\n",
    "ohe=OneHotEncoder(sparse=False)\n",
    "x=ohe.fit_transform(startup_df[['State']])"
   ]
  },
  {
   "cell_type": "code",
   "execution_count": 10,
   "id": "7dd6531f",
   "metadata": {
    "execution": {
     "iopub.execute_input": "2023-01-10T15:15:51.261220Z",
     "iopub.status.busy": "2023-01-10T15:15:51.260664Z",
     "iopub.status.idle": "2023-01-10T15:15:51.270756Z",
     "shell.execute_reply": "2023-01-10T15:15:51.269687Z"
    },
    "papermill": {
     "duration": 0.028988,
     "end_time": "2023-01-10T15:15:51.273278",
     "exception": false,
     "start_time": "2023-01-10T15:15:51.244290",
     "status": "completed"
    },
    "tags": []
   },
   "outputs": [
    {
     "data": {
      "text/plain": [
       "array([[0., 0., 1.],\n",
       "       [1., 0., 0.],\n",
       "       [0., 1., 0.],\n",
       "       [0., 0., 1.],\n",
       "       [0., 1., 0.],\n",
       "       [0., 0., 1.],\n",
       "       [1., 0., 0.],\n",
       "       [0., 1., 0.],\n",
       "       [0., 0., 1.],\n",
       "       [1., 0., 0.],\n",
       "       [0., 1., 0.],\n",
       "       [1., 0., 0.],\n",
       "       [0., 1., 0.],\n",
       "       [1., 0., 0.],\n",
       "       [0., 1., 0.],\n",
       "       [0., 0., 1.],\n",
       "       [1., 0., 0.],\n",
       "       [0., 0., 1.],\n",
       "       [0., 1., 0.],\n",
       "       [0., 0., 1.],\n",
       "       [1., 0., 0.],\n",
       "       [0., 0., 1.],\n",
       "       [0., 1., 0.],\n",
       "       [0., 1., 0.],\n",
       "       [0., 0., 1.],\n",
       "       [1., 0., 0.],\n",
       "       [0., 1., 0.],\n",
       "       [0., 0., 1.],\n",
       "       [0., 1., 0.],\n",
       "       [0., 0., 1.],\n",
       "       [0., 1., 0.],\n",
       "       [0., 0., 1.],\n",
       "       [1., 0., 0.],\n",
       "       [0., 1., 0.],\n",
       "       [1., 0., 0.],\n",
       "       [0., 0., 1.],\n",
       "       [0., 1., 0.],\n",
       "       [1., 0., 0.],\n",
       "       [0., 0., 1.],\n",
       "       [1., 0., 0.],\n",
       "       [1., 0., 0.],\n",
       "       [0., 1., 0.],\n",
       "       [1., 0., 0.],\n",
       "       [0., 0., 1.],\n",
       "       [1., 0., 0.],\n",
       "       [0., 0., 1.],\n",
       "       [0., 1., 0.],\n",
       "       [1., 0., 0.],\n",
       "       [0., 0., 1.],\n",
       "       [1., 0., 0.]])"
      ]
     },
     "execution_count": 10,
     "metadata": {},
     "output_type": "execute_result"
    }
   ],
   "source": [
    "x"
   ]
  },
  {
   "cell_type": "markdown",
   "id": "6116b039",
   "metadata": {
    "papermill": {
     "duration": 0.015098,
     "end_time": "2023-01-10T15:15:51.303392",
     "exception": false,
     "start_time": "2023-01-10T15:15:51.288294",
     "status": "completed"
    },
    "tags": []
   },
   "source": [
    "It will give an array like this. Let us see what are those three categories."
   ]
  },
  {
   "cell_type": "code",
   "execution_count": 11,
   "id": "52fe514d",
   "metadata": {
    "execution": {
     "iopub.execute_input": "2023-01-10T15:15:51.335760Z",
     "iopub.status.busy": "2023-01-10T15:15:51.334308Z",
     "iopub.status.idle": "2023-01-10T15:15:51.342649Z",
     "shell.execute_reply": "2023-01-10T15:15:51.341097Z"
    },
    "papermill": {
     "duration": 0.027439,
     "end_time": "2023-01-10T15:15:51.345550",
     "exception": false,
     "start_time": "2023-01-10T15:15:51.318111",
     "status": "completed"
    },
    "tags": []
   },
   "outputs": [
    {
     "data": {
      "text/plain": [
       "[array(['California', 'Florida', 'New York'], dtype=object)]"
      ]
     },
     "execution_count": 11,
     "metadata": {},
     "output_type": "execute_result"
    }
   ],
   "source": [
    "ohe.categories_\n"
   ]
  },
  {
   "cell_type": "markdown",
   "id": "8d0c924f",
   "metadata": {
    "papermill": {
     "duration": 0.014967,
     "end_time": "2023-01-10T15:15:51.376584",
     "exception": false,
     "start_time": "2023-01-10T15:15:51.361617",
     "status": "completed"
    },
    "tags": []
   },
   "source": [
    "Here [0., 0., 1.] indicates NewYork, [0., 1., 0.] indicates Florida  and [1., 0., 0.] indicates California.\n",
    "\n"
   ]
  },
  {
   "cell_type": "markdown",
   "id": "a093ca2e",
   "metadata": {
    "papermill": {
     "duration": 0.014283,
     "end_time": "2023-01-10T15:15:51.405599",
     "exception": false,
     "start_time": "2023-01-10T15:15:51.391316",
     "status": "completed"
    },
    "tags": []
   },
   "source": [
    "<hr style =\"border: 10px solid purple; border-radius: 5px;\">"
   ]
  },
  {
   "cell_type": "markdown",
   "id": "10bbdf5e",
   "metadata": {
    "papermill": {
     "duration": 0.014502,
     "end_time": "2023-01-10T15:15:51.435703",
     "exception": false,
     "start_time": "2023-01-10T15:15:51.421201",
     "status": "completed"
    },
    "tags": []
   },
   "source": [
    "<h2 style =\"color:red; font-size: 28px;\">\n",
    "<b>\n",
    "Change Columns using Column Transformer\n",
    "</b>\n",
    "</h2>\n"
   ]
  },
  {
   "cell_type": "markdown",
   "id": "45643046",
   "metadata": {
    "papermill": {
     "duration": 0.014222,
     "end_time": "2023-01-10T15:15:51.464787",
     "exception": false,
     "start_time": "2023-01-10T15:15:51.450565",
     "status": "completed"
    },
    "tags": []
   },
   "source": [
    "For this import make_column_transformer from scikit learn library and pass the column that we want to transfer.\n",
    "\n"
   ]
  },
  {
   "cell_type": "code",
   "execution_count": 12,
   "id": "8db5041f",
   "metadata": {
    "execution": {
     "iopub.execute_input": "2023-01-10T15:15:51.496519Z",
     "iopub.status.busy": "2023-01-10T15:15:51.496007Z",
     "iopub.status.idle": "2023-01-10T15:15:51.513421Z",
     "shell.execute_reply": "2023-01-10T15:15:51.512056Z"
    },
    "papermill": {
     "duration": 0.036846,
     "end_time": "2023-01-10T15:15:51.516296",
     "exception": false,
     "start_time": "2023-01-10T15:15:51.479450",
     "status": "completed"
    },
    "tags": []
   },
   "outputs": [],
   "source": [
    "from sklearn.compose import make_column_transformer"
   ]
  },
  {
   "cell_type": "code",
   "execution_count": 13,
   "id": "aed32b32",
   "metadata": {
    "execution": {
     "iopub.execute_input": "2023-01-10T15:15:51.548320Z",
     "iopub.status.busy": "2023-01-10T15:15:51.547807Z",
     "iopub.status.idle": "2023-01-10T15:15:51.553969Z",
     "shell.execute_reply": "2023-01-10T15:15:51.552645Z"
    },
    "papermill": {
     "duration": 0.025769,
     "end_time": "2023-01-10T15:15:51.556686",
     "exception": false,
     "start_time": "2023-01-10T15:15:51.530917",
     "status": "completed"
    },
    "tags": []
   },
   "outputs": [],
   "source": [
    "col_trans=make_column_transformer((OneHotEncoder(handle_unknown='ignore'),['State']), remainder='passthrough')"
   ]
  },
  {
   "cell_type": "code",
   "execution_count": 14,
   "id": "74679772",
   "metadata": {
    "execution": {
     "iopub.execute_input": "2023-01-10T15:15:51.588308Z",
     "iopub.status.busy": "2023-01-10T15:15:51.587869Z",
     "iopub.status.idle": "2023-01-10T15:15:51.598236Z",
     "shell.execute_reply": "2023-01-10T15:15:51.596961Z"
    },
    "papermill": {
     "duration": 0.029631,
     "end_time": "2023-01-10T15:15:51.601204",
     "exception": false,
     "start_time": "2023-01-10T15:15:51.571573",
     "status": "completed"
    },
    "tags": []
   },
   "outputs": [
    {
     "data": {
      "text/plain": [
       "ColumnTransformer(remainder='passthrough',\n",
       "                  transformers=[('onehotencoder',\n",
       "                                 OneHotEncoder(handle_unknown='ignore'),\n",
       "                                 ['State'])])"
      ]
     },
     "execution_count": 14,
     "metadata": {},
     "output_type": "execute_result"
    }
   ],
   "source": [
    "col_trans"
   ]
  },
  {
   "cell_type": "code",
   "execution_count": 15,
   "id": "f57aa732",
   "metadata": {
    "execution": {
     "iopub.execute_input": "2023-01-10T15:15:51.632747Z",
     "iopub.status.busy": "2023-01-10T15:15:51.632237Z",
     "iopub.status.idle": "2023-01-10T15:15:51.637969Z",
     "shell.execute_reply": "2023-01-10T15:15:51.636717Z"
    },
    "papermill": {
     "duration": 0.024383,
     "end_time": "2023-01-10T15:15:51.640424",
     "exception": false,
     "start_time": "2023-01-10T15:15:51.616041",
     "status": "completed"
    },
    "tags": []
   },
   "outputs": [],
   "source": [
    "# x=col_trans.fit_transform(x)"
   ]
  },
  {
   "cell_type": "markdown",
   "id": "fc32466c",
   "metadata": {
    "papermill": {
     "duration": 0.014339,
     "end_time": "2023-01-10T15:15:51.669561",
     "exception": false,
     "start_time": "2023-01-10T15:15:51.655222",
     "status": "completed"
    },
    "tags": []
   },
   "source": [
    "<hr style =\"border: 10px solid purple; border-radius: 5px;\">"
   ]
  },
  {
   "cell_type": "markdown",
   "id": "1902f73b",
   "metadata": {
    "papermill": {
     "duration": 0.01437,
     "end_time": "2023-01-10T15:15:51.698708",
     "exception": false,
     "start_time": "2023-01-10T15:15:51.684338",
     "status": "completed"
    },
    "tags": []
   },
   "source": [
    "<h2 style =\"color:red; font-size: 28px;\">\n",
    "<b>\n",
    "Split the Dataset into Train Set and Test Set\n",
    "</b>\n",
    "</h2>\n"
   ]
  },
  {
   "cell_type": "markdown",
   "id": "ef0b4d07",
   "metadata": {
    "papermill": {
     "duration": 0.015961,
     "end_time": "2023-01-10T15:15:51.729418",
     "exception": false,
     "start_time": "2023-01-10T15:15:51.713457",
     "status": "completed"
    },
    "tags": []
   },
   "source": [
    "\n",
    "Now, split your dataset into two parts in which 80% of the dataset will go to the training set, and 20% of the dataset will go to the testing set. Actually, you can divide it as per your wish by setting the value into test_size."
   ]
  },
  {
   "cell_type": "code",
   "execution_count": 16,
   "id": "812b6707",
   "metadata": {
    "execution": {
     "iopub.execute_input": "2023-01-10T15:15:51.762622Z",
     "iopub.status.busy": "2023-01-10T15:15:51.762093Z",
     "iopub.status.idle": "2023-01-10T15:15:51.769962Z",
     "shell.execute_reply": "2023-01-10T15:15:51.768616Z"
    },
    "papermill": {
     "duration": 0.027372,
     "end_time": "2023-01-10T15:15:51.772795",
     "exception": false,
     "start_time": "2023-01-10T15:15:51.745423",
     "status": "completed"
    },
    "tags": []
   },
   "outputs": [],
   "source": [
    "x_train,x_test,y_train,y_test=train_test_split(x,y,test_size=0.2,random_state=0)\n"
   ]
  },
  {
   "cell_type": "code",
   "execution_count": 17,
   "id": "a62831c2",
   "metadata": {
    "execution": {
     "iopub.execute_input": "2023-01-10T15:15:51.805063Z",
     "iopub.status.busy": "2023-01-10T15:15:51.804562Z",
     "iopub.status.idle": "2023-01-10T15:15:51.811373Z",
     "shell.execute_reply": "2023-01-10T15:15:51.810096Z"
    },
    "papermill": {
     "duration": 0.02684,
     "end_time": "2023-01-10T15:15:51.814333",
     "exception": false,
     "start_time": "2023-01-10T15:15:51.787493",
     "status": "completed"
    },
    "tags": []
   },
   "outputs": [
    {
     "name": "stdout",
     "output_type": "stream",
     "text": [
      "X_train: (40, 3)\n",
      "X_test: (10, 3)\n",
      "Y_train: (40,)\n",
      "Y_test: (10,)\n"
     ]
    }
   ],
   "source": [
    "#shapes of splitted data\n",
    "print(\"X_train:\",x_train.shape)\n",
    "print(\"X_test:\",x_test.shape)\n",
    "print(\"Y_train:\",y_train.shape)\n",
    "print(\"Y_test:\",y_test.shape)"
   ]
  },
  {
   "cell_type": "markdown",
   "id": "9c58fd31",
   "metadata": {
    "papermill": {
     "duration": 0.015029,
     "end_time": "2023-01-10T15:15:51.844803",
     "exception": false,
     "start_time": "2023-01-10T15:15:51.829774",
     "status": "completed"
    },
    "tags": []
   },
   "source": [
    "<hr style =\"border: 10px solid purple; border-radius: 5px;\">"
   ]
  },
  {
   "cell_type": "markdown",
   "id": "4271124a",
   "metadata": {
    "papermill": {
     "duration": 0.015831,
     "end_time": "2023-01-10T15:15:51.877231",
     "exception": false,
     "start_time": "2023-01-10T15:15:51.861400",
     "status": "completed"
    },
    "tags": []
   },
   "source": [
    "<h2 style =\"color:red; font-size: 28px;\">\n",
    "<b>\n",
    "Train the Model\n",
    "</b>\n",
    "</h2>"
   ]
  },
  {
   "cell_type": "markdown",
   "id": "a4d38ef1",
   "metadata": {
    "papermill": {
     "duration": 0.015291,
     "end_time": "2023-01-10T15:15:51.909008",
     "exception": false,
     "start_time": "2023-01-10T15:15:51.893717",
     "status": "completed"
    },
    "tags": []
   },
   "source": [
    "![](https://github.com/avs-abhishek123/Machine-Learning/blob/main/images/sample_images/train_eval.png?raw=true)"
   ]
  },
  {
   "cell_type": "markdown",
   "id": "9d484971",
   "metadata": {
    "papermill": {
     "duration": 0.015411,
     "end_time": "2023-01-10T15:15:51.940492",
     "exception": false,
     "start_time": "2023-01-10T15:15:51.925081",
     "status": "completed"
    },
    "tags": []
   },
   "source": [
    "To train the model, we have to import the Linear Regression model, which we have already created at the beginning. Use the fit method, and pass the training sets into it to train the model.\n",
    "\n"
   ]
  },
  {
   "cell_type": "code",
   "execution_count": 18,
   "id": "23927c14",
   "metadata": {
    "execution": {
     "iopub.execute_input": "2023-01-10T15:15:51.975262Z",
     "iopub.status.busy": "2023-01-10T15:15:51.974290Z",
     "iopub.status.idle": "2023-01-10T15:15:52.000039Z",
     "shell.execute_reply": "2023-01-10T15:15:51.998720Z"
    },
    "papermill": {
     "duration": 0.046474,
     "end_time": "2023-01-10T15:15:52.002673",
     "exception": false,
     "start_time": "2023-01-10T15:15:51.956199",
     "status": "completed"
    },
    "tags": []
   },
   "outputs": [
    {
     "data": {
      "text/plain": [
       "LinearRegression()"
      ]
     },
     "execution_count": 18,
     "metadata": {},
     "output_type": "execute_result"
    }
   ],
   "source": [
    "linreg=LinearRegression()\n",
    "linreg.fit(x_train,y_train)"
   ]
  },
  {
   "cell_type": "markdown",
   "id": "fdc5f092",
   "metadata": {
    "papermill": {
     "duration": 0.015018,
     "end_time": "2023-01-10T15:15:52.033433",
     "exception": false,
     "start_time": "2023-01-10T15:15:52.018415",
     "status": "completed"
    },
    "tags": []
   },
   "source": [
    "<hr style =\"border: 10px solid purple; border-radius: 5px;\">"
   ]
  },
  {
   "cell_type": "markdown",
   "id": "2d1b659a",
   "metadata": {
    "papermill": {
     "duration": 0.015064,
     "end_time": "2023-01-10T15:15:52.063924",
     "exception": false,
     "start_time": "2023-01-10T15:15:52.048860",
     "status": "completed"
    },
    "tags": []
   },
   "source": [
    "<h2 style =\"color:red; font-size: 28px;\">\n",
    "<b>\n",
    "Predict the Test Results\n",
    "</b>\n",
    "</h2>"
   ]
  },
  {
   "cell_type": "markdown",
   "id": "bbed6b3f",
   "metadata": {
    "papermill": {
     "duration": 0.015152,
     "end_time": "2023-01-10T15:15:52.094636",
     "exception": false,
     "start_time": "2023-01-10T15:15:52.079484",
     "status": "completed"
    },
    "tags": []
   },
   "source": [
    "Use the predict method to predict the results, then pass the independent variables into it and view the results. It will give the array with all the values in it."
   ]
  },
  {
   "cell_type": "code",
   "execution_count": 19,
   "id": "607e9bd8",
   "metadata": {
    "execution": {
     "iopub.execute_input": "2023-01-10T15:15:52.128206Z",
     "iopub.status.busy": "2023-01-10T15:15:52.127467Z",
     "iopub.status.idle": "2023-01-10T15:15:52.138627Z",
     "shell.execute_reply": "2023-01-10T15:15:52.137199Z"
    },
    "papermill": {
     "duration": 0.031436,
     "end_time": "2023-01-10T15:15:52.141609",
     "exception": false,
     "start_time": "2023-01-10T15:15:52.110173",
     "status": "completed"
    },
    "tags": []
   },
   "outputs": [
    {
     "data": {
      "text/plain": [
       "array([110559.165     , 101383.13625   , 110559.165     , 110559.165     ,\n",
       "       110559.165     , 117867.14714286, 117867.14714286, 117867.14714286,\n",
       "       110559.165     , 110559.165     ])"
      ]
     },
     "execution_count": 19,
     "metadata": {},
     "output_type": "execute_result"
    }
   ],
   "source": [
    "y_pred=linreg.predict(x_test)\n",
    "y_pred"
   ]
  },
  {
   "cell_type": "markdown",
   "id": "bc02a2e0",
   "metadata": {
    "papermill": {
     "duration": 0.015236,
     "end_time": "2023-01-10T15:15:52.172559",
     "exception": false,
     "start_time": "2023-01-10T15:15:52.157323",
     "status": "completed"
    },
    "tags": []
   },
   "source": [
    "<hr style =\"border: 10px solid purple; border-radius: 5px;\">"
   ]
  },
  {
   "cell_type": "markdown",
   "id": "cdb523f9",
   "metadata": {
    "papermill": {
     "duration": 0.015086,
     "end_time": "2023-01-10T15:15:52.203151",
     "exception": false,
     "start_time": "2023-01-10T15:15:52.188065",
     "status": "completed"
    },
    "tags": []
   },
   "source": [
    "<h2 style =\"color:red; font-size: 28px;\">\n",
    "<b>\n",
    "Evaluate the Model\n",
    "</b>\n",
    "</h2>"
   ]
  },
  {
   "cell_type": "markdown",
   "id": "53ac5f05",
   "metadata": {
    "papermill": {
     "duration": 0.015211,
     "end_time": "2023-01-10T15:15:52.233928",
     "exception": false,
     "start_time": "2023-01-10T15:15:52.218717",
     "status": "completed"
    },
    "tags": []
   },
   "source": [
    "We have different metrics to find the accuracy score of the model, and here we use r2_score to evaluate our model and find its accuracy."
   ]
  },
  {
   "cell_type": "code",
   "execution_count": 20,
   "id": "24c515b5",
   "metadata": {
    "execution": {
     "iopub.execute_input": "2023-01-10T15:15:52.269474Z",
     "iopub.status.busy": "2023-01-10T15:15:52.269009Z",
     "iopub.status.idle": "2023-01-10T15:15:52.276532Z",
     "shell.execute_reply": "2023-01-10T15:15:52.275031Z"
    },
    "papermill": {
     "duration": 0.029131,
     "end_time": "2023-01-10T15:15:52.280142",
     "exception": false,
     "start_time": "2023-01-10T15:15:52.251011",
     "status": "completed"
    },
    "tags": []
   },
   "outputs": [
    {
     "name": "stdout",
     "output_type": "stream",
     "text": [
      " Accuracy of the model is -22.97\n"
     ]
    }
   ],
   "source": [
    "Accuracy=r2_score(y_test,y_pred)*100\n",
    "print(\" Accuracy of the model is %.2f\" %Accuracy)"
   ]
  },
  {
   "cell_type": "markdown",
   "id": "93a0faa2",
   "metadata": {
    "papermill": {
     "duration": 0.01631,
     "end_time": "2023-01-10T15:15:52.312780",
     "exception": false,
     "start_time": "2023-01-10T15:15:52.296470",
     "status": "completed"
    },
    "tags": []
   },
   "source": [
    "<hr style =\"border: 10px solid purple; border-radius: 5px;\">"
   ]
  },
  {
   "cell_type": "markdown",
   "id": "c1b25d9f",
   "metadata": {
    "papermill": {
     "duration": 0.015208,
     "end_time": "2023-01-10T15:15:52.344429",
     "exception": false,
     "start_time": "2023-01-10T15:15:52.329221",
     "status": "completed"
    },
    "tags": []
   },
   "source": [
    "<h2 style =\"color:red; font-size: 28px;\">\n",
    "<b>\n",
    "Plot the Results\n",
    "</b>\n",
    "</h2>"
   ]
  },
  {
   "cell_type": "markdown",
   "id": "3fb3ff76",
   "metadata": {
    "papermill": {
     "duration": 0.016794,
     "end_time": "2023-01-10T15:15:52.376759",
     "exception": false,
     "start_time": "2023-01-10T15:15:52.359965",
     "status": "completed"
    },
    "tags": []
   },
   "source": [
    "\n",
    "We will plot the scatter plot between actual values and predicted values. Use xlabel to label the x-axis and use ylabel to label the y-axis."
   ]
  },
  {
   "cell_type": "code",
   "execution_count": 21,
   "id": "432d110c",
   "metadata": {
    "execution": {
     "iopub.execute_input": "2023-01-10T15:15:52.412972Z",
     "iopub.status.busy": "2023-01-10T15:15:52.412009Z",
     "iopub.status.idle": "2023-01-10T15:15:52.705361Z",
     "shell.execute_reply": "2023-01-10T15:15:52.704085Z"
    },
    "papermill": {
     "duration": 0.314036,
     "end_time": "2023-01-10T15:15:52.708342",
     "exception": false,
     "start_time": "2023-01-10T15:15:52.394306",
     "status": "completed"
    },
    "tags": []
   },
   "outputs": [
    {
     "data": {
      "image/png": "[encoded data removed]",
      "text/plain": [
       "<Figure size 432x288 with 1 Axes>"
      ]
     },
     "metadata": {
      "needs_background": "light"
     },
     "output_type": "display_data"
    }
   ],
   "source": [
    "plt.scatter(y_test,y_pred);\n",
    "plt.xlabel('Actual');\n",
    "plt.ylabel('Predicted');"
   ]
  },
  {
   "cell_type": "markdown",
   "id": "2fbefa02",
   "metadata": {
    "papermill": {
     "duration": 0.015387,
     "end_time": "2023-01-10T15:15:52.739563",
     "exception": false,
     "start_time": "2023-01-10T15:15:52.724176",
     "status": "completed"
    },
    "tags": []
   },
   "source": [
    "<hr style =\"border: 10px solid purple; border-radius: 5px;\">"
   ]
  },
  {
   "cell_type": "markdown",
   "id": "3913950e",
   "metadata": {
    "papermill": {
     "duration": 0.015809,
     "end_time": "2023-01-10T15:15:52.771373",
     "exception": false,
     "start_time": "2023-01-10T15:15:52.755564",
     "status": "completed"
    },
    "tags": []
   },
   "source": [
    "<h2 style =\"color:red; font-size: 28px;\">\n",
    "<b>\n",
    "Regression plot of our model.\n",
    "\n",
    "</b>\n",
    "</h2>"
   ]
  },
  {
   "cell_type": "markdown",
   "id": "11bade4c",
   "metadata": {
    "papermill": {
     "duration": 0.015528,
     "end_time": "2023-01-10T15:15:52.802865",
     "exception": false,
     "start_time": "2023-01-10T15:15:52.787337",
     "status": "completed"
    },
    "tags": []
   },
   "source": [
    "A regression plot is useful to understand the linear relationship between two parameters. It creates a regression line in-between those parameters and then plots a scatter plot of those data points."
   ]
  },
  {
   "cell_type": "code",
   "execution_count": 22,
   "id": "94ca44c4",
   "metadata": {
    "execution": {
     "iopub.execute_input": "2023-01-10T15:15:52.838149Z",
     "iopub.status.busy": "2023-01-10T15:15:52.837315Z",
     "iopub.status.idle": "2023-01-10T15:15:53.069353Z",
     "shell.execute_reply": "2023-01-10T15:15:53.068172Z"
    },
    "papermill": {
     "duration": 0.25281,
     "end_time": "2023-01-10T15:15:53.072201",
     "exception": false,
     "start_time": "2023-01-10T15:15:52.819391",
     "status": "completed"
    },
    "tags": []
   },
   "outputs": [
    {
     "data": {
      "image/png": "[encoded data removed]",
      "text/plain": [
       "<Figure size 432x288 with 1 Axes>"
      ]
     },
     "metadata": {
      "needs_background": "light"
     },
     "output_type": "display_data"
    }
   ],
   "source": [
    "sns.regplot(x=y_test,y=y_pred,ci=None,color ='red');\n"
   ]
  },
  {
   "cell_type": "markdown",
   "id": "a3bc0361",
   "metadata": {
    "papermill": {
     "duration": 0.015279,
     "end_time": "2023-01-10T15:15:53.104873",
     "exception": false,
     "start_time": "2023-01-10T15:15:53.089594",
     "status": "completed"
    },
    "tags": []
   },
   "source": [
    "<hr style =\"border: 10px solid purple; border-radius: 5px;\">"
   ]
  },
  {
   "cell_type": "markdown",
   "id": "ce885bd4",
   "metadata": {
    "papermill": {
     "duration": 0.016007,
     "end_time": "2023-01-10T15:15:53.136350",
     "exception": false,
     "start_time": "2023-01-10T15:15:53.120343",
     "status": "completed"
    },
    "tags": []
   },
   "source": [
    "<h2 style =\"color:red; font-size: 28px;\">\n",
    "<b>\n",
    "Predicted Values\n",
    "</b>\n",
    "</h2>"
   ]
  },
  {
   "cell_type": "markdown",
   "id": "27fc7672",
   "metadata": {
    "papermill": {
     "duration": 0.015296,
     "end_time": "2023-01-10T15:15:53.167588",
     "exception": false,
     "start_time": "2023-01-10T15:15:53.152292",
     "status": "completed"
    },
    "tags": []
   },
   "source": [
    "Let us create a new data frame that contains actual values, predicted values, and differences between them so that we will understand how near the model predicts its actual value."
   ]
  },
  {
   "cell_type": "code",
   "execution_count": 23,
   "id": "ea08ebc5",
   "metadata": {
    "execution": {
     "iopub.execute_input": "2023-01-10T15:15:53.201328Z",
     "iopub.status.busy": "2023-01-10T15:15:53.200938Z",
     "iopub.status.idle": "2023-01-10T15:15:53.206625Z",
     "shell.execute_reply": "2023-01-10T15:15:53.205695Z"
    },
    "papermill": {
     "duration": 0.025915,
     "end_time": "2023-01-10T15:15:53.209159",
     "exception": false,
     "start_time": "2023-01-10T15:15:53.183244",
     "status": "completed"
    },
    "tags": []
   },
   "outputs": [],
   "source": [
    "pred_df=pd.DataFrame({'Actual Value':y_test,'Predicted Value':y_pred,'Difference':y_test-y_pred})\n"
   ]
  },
  {
   "cell_type": "code",
   "execution_count": 24,
   "id": "e0579355",
   "metadata": {
    "execution": {
     "iopub.execute_input": "2023-01-10T15:15:53.244046Z",
     "iopub.status.busy": "2023-01-10T15:15:53.242773Z",
     "iopub.status.idle": "2023-01-10T15:15:53.256335Z",
     "shell.execute_reply": "2023-01-10T15:15:53.255381Z"
    },
    "papermill": {
     "duration": 0.033457,
     "end_time": "2023-01-10T15:15:53.258522",
     "exception": false,
     "start_time": "2023-01-10T15:15:53.225065",
     "status": "completed"
    },
    "tags": []
   },
   "outputs": [
    {
     "data": {
      "text/html": [
       "<div>\n",
       "<style scoped>\n",
       "    .dataframe tbody tr th:only-of-type {\n",
       "        vertical-align: middle;\n",
       "    }\n",
       "\n",
       "    .dataframe tbody tr th {\n",
       "        vertical-align: top;\n",
       "    }\n",
       "\n",
       "    .dataframe thead th {\n",
       "        text-align: right;\n",
       "    }\n",
       "</style>\n",
       "<table border=\"1\" class=\"dataframe\">\n",
       "  <thead>\n",
       "    <tr style=\"text-align: right;\">\n",
       "      <th></th>\n",
       "      <th>Actual Value</th>\n",
       "      <th>Predicted Value</th>\n",
       "      <th>Difference</th>\n",
       "    </tr>\n",
       "  </thead>\n",
       "  <tbody>\n",
       "    <tr>\n",
       "      <th>28</th>\n",
       "      <td>103282.48</td>\n",
       "      <td>110559.165000</td>\n",
       "      <td>-7276.685000</td>\n",
       "    </tr>\n",
       "    <tr>\n",
       "      <th>11</th>\n",
       "      <td>144259.50</td>\n",
       "      <td>101383.136250</td>\n",
       "      <td>42876.363750</td>\n",
       "    </tr>\n",
       "    <tr>\n",
       "      <th>10</th>\n",
       "      <td>146122.05</td>\n",
       "      <td>110559.165000</td>\n",
       "      <td>35562.885000</td>\n",
       "    </tr>\n",
       "    <tr>\n",
       "      <th>41</th>\n",
       "      <td>77798.93</td>\n",
       "      <td>110559.165000</td>\n",
       "      <td>-32760.235000</td>\n",
       "    </tr>\n",
       "    <tr>\n",
       "      <th>2</th>\n",
       "      <td>191050.49</td>\n",
       "      <td>110559.165000</td>\n",
       "      <td>80491.325000</td>\n",
       "    </tr>\n",
       "    <tr>\n",
       "      <th>27</th>\n",
       "      <td>105008.41</td>\n",
       "      <td>117867.147143</td>\n",
       "      <td>-12858.737143</td>\n",
       "    </tr>\n",
       "    <tr>\n",
       "      <th>38</th>\n",
       "      <td>81229.16</td>\n",
       "      <td>117867.147143</td>\n",
       "      <td>-36637.987143</td>\n",
       "    </tr>\n",
       "    <tr>\n",
       "      <th>31</th>\n",
       "      <td>97483.66</td>\n",
       "      <td>117867.147143</td>\n",
       "      <td>-20383.487143</td>\n",
       "    </tr>\n",
       "    <tr>\n",
       "      <th>22</th>\n",
       "      <td>110352.35</td>\n",
       "      <td>110559.165000</td>\n",
       "      <td>-206.815000</td>\n",
       "    </tr>\n",
       "    <tr>\n",
       "      <th>4</th>\n",
       "      <td>166188.04</td>\n",
       "      <td>110559.165000</td>\n",
       "      <td>55628.875000</td>\n",
       "    </tr>\n",
       "  </tbody>\n",
       "</table>\n",
       "</div>"
      ],
      "text/plain": [
       "    Actual Value  Predicted Value    Difference\n",
       "28     103282.48    110559.165000  -7276.685000\n",
       "11     144259.50    101383.136250  42876.363750\n",
       "10     146122.05    110559.165000  35562.885000\n",
       "41      77798.93    110559.165000 -32760.235000\n",
       "2      191050.49    110559.165000  80491.325000\n",
       "27     105008.41    117867.147143 -12858.737143\n",
       "38      81229.16    117867.147143 -36637.987143\n",
       "31      97483.66    117867.147143 -20383.487143\n",
       "22     110352.35    110559.165000   -206.815000\n",
       "4      166188.04    110559.165000  55628.875000"
      ]
     },
     "execution_count": 24,
     "metadata": {},
     "output_type": "execute_result"
    }
   ],
   "source": [
    "pred_df\n"
   ]
  },
  {
   "cell_type": "markdown",
   "id": "7a5f5596",
   "metadata": {
    "papermill": {
     "duration": 0.015631,
     "end_time": "2023-01-10T15:15:53.290128",
     "exception": false,
     "start_time": "2023-01-10T15:15:53.274497",
     "status": "completed"
    },
    "tags": []
   },
   "source": [
    "Here we can see the difference between Actual values and predicted values which are not very high. When values are in the range of lakhs, then the difference in thousands is not much.\n",
    "We have already seen that the accuracy of this model is about 93 percent."
   ]
  },
  {
   "cell_type": "markdown",
   "id": "5ff10bce",
   "metadata": {
    "papermill": {
     "duration": 0.015669,
     "end_time": "2023-01-10T15:15:53.321446",
     "exception": false,
     "start_time": "2023-01-10T15:15:53.305777",
     "status": "completed"
    },
    "tags": []
   },
   "source": [
    "<hr style =\"border: 10px solid purple; border-radius: 5px;\">"
   ]
  },
  {
   "cell_type": "markdown",
   "id": "078f28ac",
   "metadata": {
    "papermill": {
     "duration": 0.015315,
     "end_time": "2023-01-10T15:15:53.352518",
     "exception": false,
     "start_time": "2023-01-10T15:15:53.337203",
     "status": "completed"
    },
    "tags": []
   },
   "source": [
    "<h2 style =\"color:red; font-size: 28px;\">\n",
    "<b>\n",
    "Conclusion\n",
    "</b>\n",
    "</h2>"
   ]
  },
  {
   "cell_type": "markdown",
   "id": "02b61d01",
   "metadata": {
    "papermill": {
     "duration": 0.016212,
     "end_time": "2023-01-10T15:15:53.384862",
     "exception": false,
     "start_time": "2023-01-10T15:15:53.368650",
     "status": "completed"
    },
    "tags": []
   },
   "source": [
    "In this article, we have created a new Linear Regression model, and we learned how to perform One-Hot Encoding and where to perform it. We used a column transformer and then trained the model, predicted the results, evaluated the model using r2_score metrics, and plotted the results."
   ]
  }
 ],
 "metadata": {
  "kernelspec": {
   "display_name": "Python 3",
   "language": "python",
   "name": "python3"
  },
  "language_info": {
   "codemirror_mode": {
    "name": "ipython",
    "version": 3
   },
   "file_extension": ".py",
   "mimetype": "text/x-python",
   "name": "python",
   "nbconvert_exporter": "python",
   "pygments_lexer": "ipython3",
   "version": "3.7.12"
  },
  "papermill": {
   "default_parameters": {},
   "duration": 16.645211,
   "end_time": "2023-01-10T15:15:54.323511",
   "environment_variables": {},
   "exception": null,
   "input_path": "__notebook__.ipynb",
   "output_path": "__notebook__.ipynb",
   "parameters": {},
   "start_time": "2023-01-10T15:15:37.678300",
   "version": "2.3.4"
  }
 },
 "nbformat": 4,
 "nbformat_minor": 5
}
