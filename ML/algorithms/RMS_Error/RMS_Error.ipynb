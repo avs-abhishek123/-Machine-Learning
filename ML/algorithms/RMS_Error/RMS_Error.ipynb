{
 "cells": [
  {
   "attachments": {},
   "cell_type": "markdown",
   "metadata": {},
   "source": [
    "RMS method first calculates the square of each number and then calculate the mean and finally calculate the square root of the mean.\n",
    "Below is the program to find RMS of N numbers: "
   ]
  },
  {
   "cell_type": "code",
   "execution_count": 1,
   "metadata": {},
   "outputs": [
    {
     "name": "stdout",
     "output_type": "stream",
     "text": [
      "7.3484692283495345\n"
     ]
    }
   ],
   "source": [
    "#Python3 program to calculate Root Mean Square\n",
    "\n",
    "import math\n",
    "#Function that Calculate Root Mean Square\n",
    "def rmsValue(arr, n):\n",
    "\tsquare = 0\n",
    "\tmean = 0.0\n",
    "\troot = 0.0\n",
    "\n",
    "\t#Calculate square\n",
    "\tfor i in range(0,n):\n",
    "\t\tsquare += (arr[i]**2)\n",
    "\n",
    "\t#Calculate Mean\n",
    "\tmean = (square / (float)(n))\n",
    "\n",
    "\t#Calculate Root\n",
    "\troot = math.sqrt(mean)\n",
    "\n",
    "\treturn root\n",
    "\n",
    "#Driver code\n",
    "if __name__=='__main__':\n",
    "\tarr = [10, 4, 6, 8]\n",
    "\tn = len(arr)\n",
    "\tprint(rmsValue(arr, n))\n",
    "\n",
    "#This code is contributed by Shashank_Sharma\n"
   ]
  },
  {
   "cell_type": "code",
   "execution_count": 3,
   "metadata": {},
   "outputs": [
    {
     "name": "stdout",
     "output_type": "stream",
     "text": [
      "Root Mean Square Error:\n",
      "\n",
      "0.6971370023173351\n"
     ]
    }
   ],
   "source": [
    "import math\n",
    "import numpy as np\n",
    "y_actual = [1,2,3,4,5]\n",
    "y_predicted = [1.6,2.5,2.9,3,4.1]\n",
    " \n",
    "MSE = np.square(np.subtract(y_actual,y_predicted)).mean() \n",
    " \n",
    "RMSE = math.sqrt(MSE)\n",
    "print(\"Root Mean Square Error:\\n\")\n",
    "print(RMSE)"
   ]
  },
  {
   "attachments": {},
   "cell_type": "markdown",
   "metadata": {},
   "source": [
    "RMSE is an acronym for Root Mean Square Error, which is the square root of value obtained from Mean Square Error function.\n",
    "\n",
    "Using RMSE, we can easily plot a difference between the estimated and actual values of a parameter of the model."
   ]
  },
  {
   "cell_type": "code",
   "execution_count": 4,
   "metadata": {},
   "outputs": [
    {
     "name": "stdout",
     "output_type": "stream",
     "text": [
      "Root Mean Square Error:\n",
      "\n",
      "0.6971370023173351\n"
     ]
    }
   ],
   "source": [
    "from sklearn.metrics import mean_squared_error\n",
    "import math\n",
    "y_actual = [1,2,3,4,5]\n",
    "y_predicted = [1.6,2.5,2.9,3,4.1]\n",
    " \n",
    "MSE = mean_squared_error(y_actual, y_predicted)\n",
    " \n",
    "RMSE = math.sqrt(MSE)\n",
    "print(\"Root Mean Square Error:\\n\")\n",
    "print(RMSE)"
   ]
  },
  {
   "attachments": {},
   "cell_type": "markdown",
   "metadata": {},
   "source": [
    "By this, we can clearly judge the efficiency of the model.\n",
    "\n",
    "Usually, a RMSE score of less than 180 is considered a good score for a moderately or well working algorithm. In case, the RMSE value exceeds 180, we need to perform feature selection and hyper parameter tuning on the parameters of the model."
   ]
  },
  {
   "cell_type": "code",
   "execution_count": null,
   "metadata": {},
   "outputs": [],
   "source": [
    "x = [1,2,3,4,5]\n",
    "y = [1.6,2.5,2.9,3,4.1]"
   ]
  },
  {
   "cell_type": "code",
   "execution_count": null,
   "metadata": {},
   "outputs": [],
   "source": [
    "y = f(x). x "
   ]
  },
  {
   "cell_type": "code",
   "execution_count": 5,
   "metadata": {},
   "outputs": [],
   "source": [
    "rms = lambda x_seq: (sum(x*x for x in x_seq)/len(x_seq))**(1/2)"
   ]
  },
  {
   "cell_type": "code",
   "execution_count": 6,
   "metadata": {},
   "outputs": [
    {
     "data": {
      "text/plain": [
       "<function __main__.<lambda>(x_seq)>"
      ]
     },
     "execution_count": 6,
     "metadata": {},
     "output_type": "execute_result"
    }
   ],
   "source": [
    "rms"
   ]
  },
  {
   "cell_type": "code",
   "execution_count": null,
   "metadata": {},
   "outputs": [],
   "source": []
  }
 ],
 "metadata": {
  "kernelspec": {
   "display_name": ".venv",
   "language": "python",
   "name": "python3"
  },
  "language_info": {
   "codemirror_mode": {
    "name": "ipython",
    "version": 3
   },
   "file_extension": ".py",
   "mimetype": "text/x-python",
   "name": "python",
   "nbconvert_exporter": "python",
   "pygments_lexer": "ipython3",
   "version": "3.10.9"
  },
  "orig_nbformat": 4,
  "vscode": {
   "interpreter": {
    "hash": "4697689639937dc2b3a7c5eccd1e847f5bd57d2de22c47d3600f2afd687dd29f"
   }
  }
 },
 "nbformat": 4,
 "nbformat_minor": 2
}
