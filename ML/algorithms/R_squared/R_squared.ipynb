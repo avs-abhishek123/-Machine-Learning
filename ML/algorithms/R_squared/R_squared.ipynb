{
 "cells": [
  {
   "attachments": {},
   "cell_type": "markdown",
   "metadata": {},
   "source": [
    "# R-squared"
   ]
  },
  {
   "attachments": {},
   "cell_type": "markdown",
   "metadata": {},
   "source": [
    "R-squared, often written R2, is the proportion of the variance in the response variable that can be explained by the predictor variables in a linear regression model."
   ]
  },
  {
   "attachments": {},
   "cell_type": "markdown",
   "metadata": {},
   "source": [
    "The value for R-squared can range from 0 to 1 where:\n",
    "\n",
    "* 0 indicates that the response variable cannot be explained by the predictor variable at all.\n",
    "* 1 indicates that the response variable can be perfectly explained without error by the predictor variables."
   ]
  },
  {
   "attachments": {},
   "cell_type": "markdown",
   "metadata": {},
   "source": [
    "Suppose we have the following pandas DataFrame:\n",
    "\n"
   ]
  },
  {
   "cell_type": "code",
   "execution_count": 1,
   "metadata": {},
   "outputs": [
    {
     "name": "stdout",
     "output_type": "stream",
     "text": [
      "    hours  prep_exams  score\n",
      "0       1           1     76\n",
      "1       2           3     78\n",
      "2       2           3     85\n",
      "3       4           5     88\n",
      "4       2           2     72\n",
      "5       1           2     69\n",
      "6       5           1     94\n",
      "7       4           1     94\n",
      "8       2           0     88\n",
      "9       4           3     92\n",
      "10      4           4     90\n",
      "11      3           3     75\n",
      "12      6           2     96\n"
     ]
    }
   ],
   "source": [
    "import pandas as pd\n",
    "\n",
    "#create DataFrame\n",
    "df = pd.DataFrame({'hours': [1, 2, 2, 4, 2, 1, 5, 4, 2, 4, 4, 3, 6],\n",
    "                   'prep_exams': [1, 3, 3, 5, 2, 2, 1, 1, 0, 3, 4, 3, 2],\n",
    "                   'score': [76, 78, 85, 88, 72, 69, 94, 94, 88, 92, 90, 75, 96]})\n",
    "\n",
    "#view DataFrame\n",
    "print(df)"
   ]
  },
  {
   "attachments": {},
   "cell_type": "markdown",
   "metadata": {},
   "source": [
    "We can use the LinearRegression() function from sklearn to fit a regression model and the score() function to calculate the R-squared value for the model:"
   ]
  },
  {
   "cell_type": "code",
   "execution_count": 2,
   "metadata": {},
   "outputs": [
    {
     "name": "stdout",
     "output_type": "stream",
     "text": [
      "0.71755417141059\n"
     ]
    }
   ],
   "source": [
    "from sklearn.linear_model import LinearRegression\n",
    "\n",
    "#initiate linear regression model\n",
    "model = LinearRegression()\n",
    "\n",
    "#define predictor and response variables\n",
    "X, y = df[[\"hours\", \"prep_exams\"]], df.score\n",
    "\n",
    "#fit regression model\n",
    "model.fit(X, y)\n",
    "\n",
    "#calculate R-squared of regression model\n",
    "r_squared = model.score(X, y)\n",
    "\n",
    "#view R-squared value\n",
    "print(r_squared)\n"
   ]
  },
  {
   "attachments": {},
   "cell_type": "markdown",
   "metadata": {},
   "source": [
    "The R-squared of the model turns out to be 0.7176.\n",
    "\n",
    "This means that 71.76% of the variation in the exam scores can be explained by the number of hours studied and the number of prep exams taken."
   ]
  },
  {
   "attachments": {},
   "cell_type": "markdown",
   "metadata": {},
   "source": [
    "If we’d like, we could then compare this R-squared value to another regression model with a different set of predictor variables.\n",
    "\n",
    "In general, models with higher R-squared values are preferred because it means the set of predictor variables in the model is capable of explaining the variation in the response variable well."
   ]
  }
 ],
 "metadata": {
  "kernelspec": {
   "display_name": ".venv",
   "language": "python",
   "name": "python3"
  },
  "language_info": {
   "codemirror_mode": {
    "name": "ipython",
    "version": 3
   },
   "file_extension": ".py",
   "mimetype": "text/x-python",
   "name": "python",
   "nbconvert_exporter": "python",
   "pygments_lexer": "ipython3",
   "version": "3.10.9"
  },
  "orig_nbformat": 4,
  "vscode": {
   "interpreter": {
    "hash": "4697689639937dc2b3a7c5eccd1e847f5bd57d2de22c47d3600f2afd687dd29f"
   }
  }
 },
 "nbformat": 4,
 "nbformat_minor": 2
}
