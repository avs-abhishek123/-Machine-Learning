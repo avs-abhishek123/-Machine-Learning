{
 "cells": [
  {
   "cell_type": "code",
   "execution_count": 2,
   "metadata": {},
   "outputs": [
    {
     "name": "stdout",
     "output_type": "stream",
     "text": [
      "1265\n"
     ]
    }
   ],
   "source": [
    "from PIL import Image\n",
    "import  cv2\n",
    "import os\n",
    "import glob\n",
    "import random\n",
    "image_list = []\n",
    "image_path='C:/Users/MSI/Desktop/final_output/test'\n",
    "for filename in glob.glob(image_path+'/*.png', recursive=True): #assuming gif\n",
    "    im=Image.open(filename)\n",
    "    image_list.append(im)\n",
    "print(len(image_list))"
   ]
  },
  {
   "cell_type": "code",
   "execution_count": null,
   "metadata": {},
   "outputs": [],
   "source": []
  },
  {
   "cell_type": "code",
   "execution_count": null,
   "metadata": {},
   "outputs": [],
   "source": [
    "random.shuffle(image_list)\n"
   ]
  },
  {
   "cell_type": "code",
   "execution_count": 3,
   "metadata": {},
   "outputs": [],
   "source": [
    "count=1\n",
    "for i in image_list:\n",
    "    i.save(\"C:/Users/MSI/Desktop/final_output/test_2/\"+str(count)+\".png\",\"PNG\")\n",
    "    count+=1\n",
    "    # cv2.imwrite(str(i)+\".png\", img_in_np_array_format_using_opencv)"
   ]
  },
  {
   "cell_type": "code",
   "execution_count": 1,
   "metadata": {},
   "outputs": [],
   "source": [
    "def copy_images(directory):\n",
    "    image_list = []\n",
    "\n",
    "    for file_name in os.listdir(directory):\n",
    "        sub_dir_path = directory + '/' + file_name\n",
    "        if (os.path.isdir(sub_dir_path)):\n",
    "            for image_name in os.listdir(sub_dir_path):\n",
    "                if image_name[-4:] == '.png':\n",
    "                    img = cv2.imread(image_name)\n",
    "                    image_list.append(im)\n",
    "    return image_list\n",
    "                    # copied_image_path = new_directory + '/' + image_name\n",
    "                    # cv2.imwrite(copied_image_path, img)"
   ]
  },
  {
   "cell_type": "code",
   "execution_count": null,
   "metadata": {},
   "outputs": [],
   "source": []
  },
  {
   "cell_type": "code",
   "execution_count": 2,
   "metadata": {},
   "outputs": [],
   "source": [
    "directory  = \"C:/Users/MSI/Desktop/Machine-Learning/images/final_images_elon\""
   ]
  },
  {
   "cell_type": "code",
   "execution_count": 3,
   "metadata": {},
   "outputs": [
    {
     "ename": "NameError",
     "evalue": "name 'cv2' is not defined",
     "output_type": "error",
     "traceback": [
      "\u001b[1;31m---------------------------------------------------------------------------\u001b[0m",
      "\u001b[1;31mNameError\u001b[0m                                 Traceback (most recent call last)",
      "Cell \u001b[1;32mIn[3], line 1\u001b[0m\n\u001b[1;32m----> 1\u001b[0m img_list  \u001b[39m=\u001b[39m copy_images(directory)\n",
      "Cell \u001b[1;32mIn[1], line 9\u001b[0m, in \u001b[0;36mcopy_images\u001b[1;34m(directory)\u001b[0m\n\u001b[0;32m      7\u001b[0m         \u001b[39mfor\u001b[39;00m image_name \u001b[39min\u001b[39;00m os\u001b[39m.\u001b[39mlistdir(sub_dir_path):\n\u001b[0;32m      8\u001b[0m             \u001b[39mif\u001b[39;00m image_name[\u001b[39m-\u001b[39m\u001b[39m4\u001b[39m:] \u001b[39m==\u001b[39m \u001b[39m'\u001b[39m\u001b[39m.png\u001b[39m\u001b[39m'\u001b[39m:\n\u001b[1;32m----> 9\u001b[0m                 img \u001b[39m=\u001b[39m cv2\u001b[39m.\u001b[39mimread(image_name)\n\u001b[0;32m     10\u001b[0m                 image_list\u001b[39m.\u001b[39mappend(im)\n\u001b[0;32m     11\u001b[0m \u001b[39mreturn\u001b[39;00m image_list\n",
      "\u001b[1;31mNameError\u001b[0m: name 'cv2' is not defined"
     ]
    }
   ],
   "source": [
    "img_list  = copy_images(directory)"
   ]
  },
  {
   "cell_type": "code",
   "execution_count": 5,
   "metadata": {},
   "outputs": [
    {
     "data": {
      "text/plain": [
       "10691"
      ]
     },
     "execution_count": 5,
     "metadata": {},
     "output_type": "execute_result"
    }
   ],
   "source": [
    "len(img_list)"
   ]
  },
  {
   "cell_type": "code",
   "execution_count": 6,
   "metadata": {},
   "outputs": [
    {
     "name": "stdout",
     "output_type": "stream",
     "text": [
      "Unexpected exception formatting exception. Falling back to standard exception\n"
     ]
    },
    {
     "name": "stderr",
     "output_type": "stream",
     "text": [
      "Traceback (most recent call last):\n",
      "  File \"c:\\Users\\MSI\\Desktop\\Machine-Learning\\.venv\\lib\\site-packages\\IPython\\core\\interactiveshell.py\", line 3442, in run_code\n",
      "  File \"C:\\Users\\MSI\\AppData\\Local\\Temp\\ipykernel_22188\\734889524.py\", line 3, in <module>\n",
      "    cv2.imwrite(\"C:/Users/MSI/Desktop/Machine-Learning/images/final_output/\"+str(count)+\".png\", i)\n",
      "cv2.error: OpenCV(4.7.0) :-1: error: (-5:Bad argument) in function 'imwrite'\n",
      "> Overload resolution failed:\n",
      ">  - img is not a numpy array, neither a scalar\n",
      ">  - Expected Ptr<cv::UMat> for argument 'img'\n",
      "\n",
      "\n",
      "During handling of the above exception, another exception occurred:\n",
      "\n",
      "Traceback (most recent call last):\n",
      "  File \"c:\\Users\\MSI\\Desktop\\Machine-Learning\\.venv\\lib\\site-packages\\IPython\\core\\interactiveshell.py\", line 2057, in showtraceback\n",
      "  File \"c:\\Users\\MSI\\Desktop\\Machine-Learning\\.venv\\lib\\site-packages\\IPython\\core\\ultratb.py\", line 1118, in structured_traceback\n",
      "  File \"c:\\Users\\MSI\\Desktop\\Machine-Learning\\.venv\\lib\\site-packages\\IPython\\core\\ultratb.py\", line 1012, in structured_traceback\n",
      "  File \"c:\\Users\\MSI\\Desktop\\Machine-Learning\\.venv\\lib\\site-packages\\IPython\\core\\ultratb.py\", line 865, in structured_traceback\n",
      "  File \"c:\\Users\\MSI\\Desktop\\Machine-Learning\\.venv\\lib\\site-packages\\IPython\\core\\ultratb.py\", line 799, in format_exception_as_a_whole\n",
      "  File \"c:\\Users\\MSI\\Desktop\\Machine-Learning\\.venv\\lib\\site-packages\\IPython\\core\\ultratb.py\", line 844, in get_records\n",
      "  File \"c:\\Users\\MSI\\Desktop\\Machine-Learning\\.venv\\lib\\site-packages\\pygments\\styles\\__init__.py\", line 82, in get_style_by_name\n",
      "  File \"<frozen importlib._bootstrap>\", line 1027, in _find_and_load\n",
      "  File \"<frozen importlib._bootstrap>\", line 1006, in _find_and_load_unlocked\n",
      "  File \"<frozen importlib._bootstrap>\", line 688, in _load_unlocked\n",
      "  File \"<frozen importlib._bootstrap_external>\", line 879, in exec_module\n",
      "  File \"<frozen importlib._bootstrap_external>\", line 1016, in get_code\n",
      "  File \"<frozen importlib._bootstrap_external>\", line 1073, in get_data\n",
      "OSError: [Errno 24] Too many open files: 'c:\\\\Users\\\\MSI\\\\Desktop\\\\Machine-Learning\\\\.venv\\\\lib\\\\site-packages\\\\pygments\\\\styles\\\\default.py'\n"
     ]
    }
   ],
   "source": [
    "count=1\n",
    "for i in image_list[]:\n",
    "    cv2.imwrite(\"C:/Users/MSI/Desktop/Machine-Learning/images/final_output/\"+str(count)+\".png\", i)\n",
    "    count+=1"
   ]
  },
  {
   "cell_type": "code",
   "execution_count": 4,
   "metadata": {},
   "outputs": [
    {
     "name": "stdout",
     "output_type": "stream",
     "text": [
      "12880\n"
     ]
    }
   ],
   "source": [
    "from PIL import Image\n",
    "import  cv2\n",
    "import os\n",
    "import glob\n",
    "import random\n",
    "image_list = []\n",
    "image_path='C:/Users/MSI/Desktop/final_output/train'\n",
    "for filename in glob.glob(image_path+'/*.png', recursive=True): #assuming gif\n",
    "    # im=Image.open(filename)\n",
    "    image_list.append(filename)\n",
    "print(len(image_list))"
   ]
  },
  {
   "cell_type": "code",
   "execution_count": 5,
   "metadata": {},
   "outputs": [],
   "source": [
    "random.shuffle(image_list)"
   ]
  },
  {
   "cell_type": "code",
   "execution_count": null,
   "metadata": {},
   "outputs": [],
   "source": [
    "count=1\n",
    "for i in image_list[:4000]:\n",
    "    im=Image.open(i).save(\"C:/Users/MSI/Desktop/final_output/train_2/\"+str(count)+\".png\",\"PNG\")\n",
    "    count+=1"
   ]
  },
  {
   "cell_type": "code",
   "execution_count": 14,
   "metadata": {},
   "outputs": [
    {
     "data": {
      "text/plain": [
       "'C:/Users/MSI/Desktop/final_output/train\\\\5886.png'"
      ]
     },
     "execution_count": 14,
     "metadata": {},
     "output_type": "execute_result"
    }
   ],
   "source": [
    "image_list[-1]"
   ]
  },
  {
   "cell_type": "code",
   "execution_count": 15,
   "metadata": {},
   "outputs": [
    {
     "name": "stdout",
     "output_type": "stream",
     "text": [
      "12879\n"
     ]
    }
   ],
   "source": [
    "index = image_list.index('C:/Users/MSI/Desktop/final_output/train\\\\5886.png')\n",
    "\n",
    "\n",
    "print(index)"
   ]
  },
  {
   "cell_type": "code",
   "execution_count": 18,
   "metadata": {},
   "outputs": [],
   "source": [
    "image_list_cpy = []\n",
    "image_list = []\n",
    "image_path='C:/Users/MSI/Desktop/final_output/train'\n",
    "for filename in glob.glob(image_path+'/*.png', recursive=True): #assuming gif\n",
    "    # im=Image.open(filename)\n",
    "    image_list.append(filename)\n",
    "image_path_cpy='C:/Users/MSI/Desktop/final_output/train_2'\n",
    "for filename in glob.glob(image_path_cpy+'/*.png', recursive=True): #assuming gif\n",
    "    # im=Image.open(filename)\n",
    "    image_list_cpy.append(filename)"
   ]
  },
  {
   "cell_type": "code",
   "execution_count": 19,
   "metadata": {},
   "outputs": [
    {
     "name": "stdout",
     "output_type": "stream",
     "text": [
      "12880\n",
      "12879\n"
     ]
    }
   ],
   "source": [
    "print(len(image_list))\n",
    "print(len(image_list_cpy))"
   ]
  },
  {
   "cell_type": "code",
   "execution_count": 25,
   "metadata": {},
   "outputs": [],
   "source": [
    "def func(image_path):\n",
    "    im = Image.open(image_path)\n",
    "    return im"
   ]
  },
  {
   "cell_type": "code",
   "execution_count": 28,
   "metadata": {},
   "outputs": [
    {
     "ename": "OSError",
     "evalue": "[Errno 24] Too many open files: 'C:/Users/MSI/Desktop/final_output/train\\\\8366.png'",
     "output_type": "error",
     "traceback": [
      "\u001b[1;31m---------------------------------------------------------------------------\u001b[0m",
      "\u001b[1;31mOSError\u001b[0m                                   Traceback (most recent call last)",
      "Cell \u001b[1;32mIn[28], line 1\u001b[0m\n\u001b[1;32m----> 1\u001b[0m image_list_2 \u001b[39m=\u001b[39m [func(item) \u001b[39mfor\u001b[39;00m item \u001b[39min\u001b[39;00m image_list]\n",
      "Cell \u001b[1;32mIn[28], line 1\u001b[0m, in \u001b[0;36m<listcomp>\u001b[1;34m(.0)\u001b[0m\n\u001b[1;32m----> 1\u001b[0m image_list_2 \u001b[39m=\u001b[39m [func(item) \u001b[39mfor\u001b[39;00m item \u001b[39min\u001b[39;00m image_list]\n",
      "Cell \u001b[1;32mIn[25], line 2\u001b[0m, in \u001b[0;36mfunc\u001b[1;34m(image_path)\u001b[0m\n\u001b[0;32m      1\u001b[0m \u001b[39mdef\u001b[39;00m \u001b[39mfunc\u001b[39m(image_path):\n\u001b[1;32m----> 2\u001b[0m     im \u001b[39m=\u001b[39m Image\u001b[39m.\u001b[39;49mopen(image_path)\n\u001b[0;32m      3\u001b[0m     \u001b[39mreturn\u001b[39;00m im\n",
      "File \u001b[1;32mc:\\Users\\MSI\\Desktop\\Machine-Learning\\.venv\\lib\\site-packages\\PIL\\Image.py:3227\u001b[0m, in \u001b[0;36mopen\u001b[1;34m(fp, mode, formats)\u001b[0m\n\u001b[0;32m   3224\u001b[0m     filename \u001b[39m=\u001b[39m fp\n\u001b[0;32m   3226\u001b[0m \u001b[39mif\u001b[39;00m filename:\n\u001b[1;32m-> 3227\u001b[0m     fp \u001b[39m=\u001b[39m builtins\u001b[39m.\u001b[39;49mopen(filename, \u001b[39m\"\u001b[39;49m\u001b[39mrb\u001b[39;49m\u001b[39m\"\u001b[39;49m)\n\u001b[0;32m   3228\u001b[0m     exclusive_fp \u001b[39m=\u001b[39m \u001b[39mTrue\u001b[39;00m\n\u001b[0;32m   3230\u001b[0m \u001b[39mtry\u001b[39;00m:\n",
      "\u001b[1;31mOSError\u001b[0m: [Errno 24] Too many open files: 'C:/Users/MSI/Desktop/final_output/train\\\\8366.png'"
     ]
    }
   ],
   "source": [
    "image_list_2 = [func(item) for item in image_list]"
   ]
  },
  {
   "cell_type": "code",
   "execution_count": 26,
   "metadata": {},
   "outputs": [
    {
     "ename": "AttributeError",
     "evalue": "'int' object has no attribute 'read'",
     "output_type": "error",
     "traceback": [
      "\u001b[1;31m---------------------------------------------------------------------------\u001b[0m",
      "\u001b[1;31mAttributeError\u001b[0m                            Traceback (most recent call last)",
      "File \u001b[1;32mc:\\Users\\MSI\\Desktop\\Machine-Learning\\.venv\\lib\\site-packages\\PIL\\Image.py:3231\u001b[0m, in \u001b[0;36mopen\u001b[1;34m(fp, mode, formats)\u001b[0m\n\u001b[0;32m   3230\u001b[0m \u001b[39mtry\u001b[39;00m:\n\u001b[1;32m-> 3231\u001b[0m     fp\u001b[39m.\u001b[39;49mseek(\u001b[39m0\u001b[39m)\n\u001b[0;32m   3232\u001b[0m \u001b[39mexcept\u001b[39;00m (\u001b[39mAttributeError\u001b[39;00m, io\u001b[39m.\u001b[39mUnsupportedOperation):\n",
      "\u001b[1;31mAttributeError\u001b[0m: 'int' object has no attribute 'seek'",
      "\nDuring handling of the above exception, another exception occurred:\n",
      "\u001b[1;31mAttributeError\u001b[0m                            Traceback (most recent call last)",
      "Cell \u001b[1;32mIn[26], line 1\u001b[0m\n\u001b[1;32m----> 1\u001b[0m image_list_2 \u001b[39m=\u001b[39m \u001b[39mlist\u001b[39;49m(\u001b[39mmap\u001b[39;49m(\u001b[39mlambda\u001b[39;49;00m i:func(i), \u001b[39mrange\u001b[39;49m(\u001b[39m0\u001b[39;49m, \u001b[39mlen\u001b[39;49m(image_list))))\n",
      "Cell \u001b[1;32mIn[26], line 1\u001b[0m, in \u001b[0;36m<lambda>\u001b[1;34m(i)\u001b[0m\n\u001b[1;32m----> 1\u001b[0m image_list_2 \u001b[39m=\u001b[39m \u001b[39mlist\u001b[39m(\u001b[39mmap\u001b[39m(\u001b[39mlambda\u001b[39;00m i:func(i), \u001b[39mrange\u001b[39m(\u001b[39m0\u001b[39m, \u001b[39mlen\u001b[39m(image_list))))\n",
      "Cell \u001b[1;32mIn[25], line 2\u001b[0m, in \u001b[0;36mfunc\u001b[1;34m(image_path)\u001b[0m\n\u001b[0;32m      1\u001b[0m \u001b[39mdef\u001b[39;00m \u001b[39mfunc\u001b[39m(image_path):\n\u001b[1;32m----> 2\u001b[0m     im \u001b[39m=\u001b[39m Image\u001b[39m.\u001b[39;49mopen(image_path)\n\u001b[0;32m      3\u001b[0m     \u001b[39mreturn\u001b[39;00m im\n",
      "File \u001b[1;32mc:\\Users\\MSI\\Desktop\\Machine-Learning\\.venv\\lib\\site-packages\\PIL\\Image.py:3233\u001b[0m, in \u001b[0;36mopen\u001b[1;34m(fp, mode, formats)\u001b[0m\n\u001b[0;32m   3231\u001b[0m     fp\u001b[39m.\u001b[39mseek(\u001b[39m0\u001b[39m)\n\u001b[0;32m   3232\u001b[0m \u001b[39mexcept\u001b[39;00m (\u001b[39mAttributeError\u001b[39;00m, io\u001b[39m.\u001b[39mUnsupportedOperation):\n\u001b[1;32m-> 3233\u001b[0m     fp \u001b[39m=\u001b[39m io\u001b[39m.\u001b[39mBytesIO(fp\u001b[39m.\u001b[39;49mread())\n\u001b[0;32m   3234\u001b[0m     exclusive_fp \u001b[39m=\u001b[39m \u001b[39mTrue\u001b[39;00m\n\u001b[0;32m   3236\u001b[0m prefix \u001b[39m=\u001b[39m fp\u001b[39m.\u001b[39mread(\u001b[39m16\u001b[39m)\n",
      "\u001b[1;31mAttributeError\u001b[0m: 'int' object has no attribute 'read'"
     ]
    }
   ],
   "source": [
    "image_list_2 = list(map(lambda i:func(i), range(0, len(image_list))))"
   ]
  },
  {
   "cell_type": "code",
   "execution_count": null,
   "metadata": {},
   "outputs": [],
   "source": []
  },
  {
   "cell_type": "code",
   "execution_count": 23,
   "metadata": {},
   "outputs": [],
   "source": [
    "a = []\n",
    "# for im_cpy in image_list_cpy:\n",
    "#     im_cpy = Image.open(im_cpy)\n",
    "#     for im_org in image_list:\n",
    "#         im_org = Image.open(im_org)\n",
    "#         if im_cpy not in im_org:\n",
    "#             a.append(im_cpy)\n",
    "common_list = list(set(image_list_cpy).difference(set(image_list)))\n"
   ]
  },
  {
   "cell_type": "code",
   "execution_count": 24,
   "metadata": {},
   "outputs": [
    {
     "data": {
      "text/plain": [
       "[]"
      ]
     },
     "execution_count": 24,
     "metadata": {},
     "output_type": "execute_result"
    }
   ],
   "source": [
    "common_list"
   ]
  },
  {
   "cell_type": "code",
   "execution_count": 12,
   "metadata": {},
   "outputs": [
    {
     "ename": "FileNotFoundError",
     "evalue": "[Errno 2] No such file or directory: 'C'",
     "output_type": "error",
     "traceback": [
      "\u001b[1;31m---------------------------------------------------------------------------\u001b[0m",
      "\u001b[1;31mFileNotFoundError\u001b[0m                         Traceback (most recent call last)",
      "Cell \u001b[1;32mIn[12], line 3\u001b[0m\n\u001b[0;32m      1\u001b[0m count\u001b[39m=\u001b[39m\u001b[39m12880\u001b[39m\n\u001b[0;32m      2\u001b[0m \u001b[39mfor\u001b[39;00m i \u001b[39min\u001b[39;00m image_list[\u001b[39m-\u001b[39m\u001b[39m1\u001b[39m]:\n\u001b[1;32m----> 3\u001b[0m     im\u001b[39m=\u001b[39mImage\u001b[39m.\u001b[39;49mopen(i)\n\u001b[0;32m      4\u001b[0m     im\u001b[39m.\u001b[39msave(\u001b[39m\"\u001b[39m\u001b[39mC:/Users/MSI/Desktop/final_output/train_2/\u001b[39m\u001b[39m\"\u001b[39m\u001b[39m+\u001b[39m\u001b[39mstr\u001b[39m(count)\u001b[39m+\u001b[39m\u001b[39m\"\u001b[39m\u001b[39m.png\u001b[39m\u001b[39m\"\u001b[39m,\u001b[39m\"\u001b[39m\u001b[39mPNG\u001b[39m\u001b[39m\"\u001b[39m)\n\u001b[0;32m      5\u001b[0m     count\u001b[39m+\u001b[39m\u001b[39m=\u001b[39m\u001b[39m1\u001b[39m\n",
      "File \u001b[1;32mc:\\Users\\MSI\\Desktop\\Machine-Learning\\.venv\\lib\\site-packages\\PIL\\Image.py:3227\u001b[0m, in \u001b[0;36mopen\u001b[1;34m(fp, mode, formats)\u001b[0m\n\u001b[0;32m   3224\u001b[0m     filename \u001b[39m=\u001b[39m fp\n\u001b[0;32m   3226\u001b[0m \u001b[39mif\u001b[39;00m filename:\n\u001b[1;32m-> 3227\u001b[0m     fp \u001b[39m=\u001b[39m builtins\u001b[39m.\u001b[39;49mopen(filename, \u001b[39m\"\u001b[39;49m\u001b[39mrb\u001b[39;49m\u001b[39m\"\u001b[39;49m)\n\u001b[0;32m   3228\u001b[0m     exclusive_fp \u001b[39m=\u001b[39m \u001b[39mTrue\u001b[39;00m\n\u001b[0;32m   3230\u001b[0m \u001b[39mtry\u001b[39;00m:\n",
      "\u001b[1;31mFileNotFoundError\u001b[0m: [Errno 2] No such file or directory: 'C'"
     ]
    }
   ],
   "source": [
    "count=12880\n",
    "if Image.open(im_cpy) not in Image.open(enumerate(image_list)[-1]):\n",
    "    print()\n",
    "    # im=Image.open(i).save(\"C:/Users/MSI/Desktop/final_output/train_2/\"+str(count)+\".png\",\"PNG\")"
   ]
  },
  {
   "cell_type": "code",
   "execution_count": null,
   "metadata": {},
   "outputs": [],
   "source": []
  }
 ],
 "metadata": {
  "kernelspec": {
   "display_name": ".venv",
   "language": "python",
   "name": "python3"
  },
  "language_info": {
   "codemirror_mode": {
    "name": "ipython",
    "version": 3
   },
   "file_extension": ".py",
   "mimetype": "text/x-python",
   "name": "python",
   "nbconvert_exporter": "python",
   "pygments_lexer": "ipython3",
   "version": "3.10.9 (tags/v3.10.9:1dd9be6, Dec  6 2022, 20:01:21) [MSC v.1934 64 bit (AMD64)]"
  },
  "orig_nbformat": 4,
  "vscode": {
   "interpreter": {
    "hash": "4697689639937dc2b3a7c5eccd1e847f5bd57d2de22c47d3600f2afd687dd29f"
   }
  }
 },
 "nbformat": 4,
 "nbformat_minor": 2
}
