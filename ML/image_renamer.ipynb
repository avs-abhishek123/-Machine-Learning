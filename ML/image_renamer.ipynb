{
 "cells": [
  {
   "cell_type": "code",
   "execution_count": 3,
   "metadata": {},
   "outputs": [
    {
     "name": "stdout",
     "output_type": "stream",
     "text": [
      "Unexpected exception formatting exception. Falling back to standard exception\n"
     ]
    },
    {
     "name": "stderr",
     "output_type": "stream",
     "text": [
      "Traceback (most recent call last):\n",
      "  File \"c:\\Users\\MSI\\Desktop\\Machine-Learning\\.venv\\lib\\site-packages\\IPython\\core\\interactiveshell.py\", line 3442, in run_code\n",
      "  File \"C:\\Users\\MSI\\AppData\\Local\\Temp\\ipykernel_3832\\1084771278.py\", line 7, in <module>\n",
      "    im=Image.open(filename)\n",
      "  File \"c:\\Users\\MSI\\Desktop\\Machine-Learning\\.venv\\lib\\site-packages\\PIL\\Image.py\", line 3227, in open\n",
      "OSError: [Errno 24] Too many open files: 'C:/Users/MSI/Desktop/Machine-Learning/images/final_images_elon\\\\elon_tesla_musk\\\\elon_tesla_musk_216.png'\n",
      "\n",
      "During handling of the above exception, another exception occurred:\n",
      "\n",
      "Traceback (most recent call last):\n",
      "  File \"c:\\Users\\MSI\\Desktop\\Machine-Learning\\.venv\\lib\\site-packages\\IPython\\core\\interactiveshell.py\", line 2057, in showtraceback\n",
      "  File \"c:\\Users\\MSI\\Desktop\\Machine-Learning\\.venv\\lib\\site-packages\\IPython\\core\\ultratb.py\", line 1118, in structured_traceback\n",
      "  File \"c:\\Users\\MSI\\Desktop\\Machine-Learning\\.venv\\lib\\site-packages\\IPython\\core\\ultratb.py\", line 1012, in structured_traceback\n",
      "  File \"c:\\Users\\MSI\\Desktop\\Machine-Learning\\.venv\\lib\\site-packages\\IPython\\core\\ultratb.py\", line 865, in structured_traceback\n",
      "  File \"c:\\Users\\MSI\\Desktop\\Machine-Learning\\.venv\\lib\\site-packages\\IPython\\core\\ultratb.py\", line 799, in format_exception_as_a_whole\n",
      "  File \"c:\\Users\\MSI\\Desktop\\Machine-Learning\\.venv\\lib\\site-packages\\IPython\\core\\ultratb.py\", line 844, in get_records\n",
      "  File \"c:\\Users\\MSI\\Desktop\\Machine-Learning\\.venv\\lib\\site-packages\\pygments\\styles\\__init__.py\", line 82, in get_style_by_name\n",
      "  File \"<frozen importlib._bootstrap>\", line 1027, in _find_and_load\n",
      "  File \"<frozen importlib._bootstrap>\", line 1006, in _find_and_load_unlocked\n",
      "  File \"<frozen importlib._bootstrap>\", line 688, in _load_unlocked\n",
      "  File \"<frozen importlib._bootstrap_external>\", line 879, in exec_module\n",
      "  File \"<frozen importlib._bootstrap_external>\", line 1016, in get_code\n",
      "  File \"<frozen importlib._bootstrap_external>\", line 1073, in get_data\n",
      "OSError: [Errno 24] Too many open files: 'c:\\\\Users\\\\MSI\\\\Desktop\\\\Machine-Learning\\\\.venv\\\\lib\\\\site-packages\\\\pygments\\\\styles\\\\default.py'\n"
     ]
    }
   ],
   "source": [
    "from PIL import Image\n",
    "import  cv2\n",
    "import glob\n",
    "image_list = []\n",
    "image_path='C:/Users/MSI/Desktop/Machine-Learning/images/final_images_elon'\n",
    "for filename in glob.glob(image_path++'/*/*.png'): #assuming gif\n",
    "    im=Image.open(filename)\n",
    "    image_list.append(im)\n",
    "print(len(image_list))"
   ]
  },
  {
   "cell_type": "code",
   "execution_count": 3,
   "metadata": {},
   "outputs": [],
   "source": [
    "count=1\n",
    "for i in image_list:\n",
    "    i.save(\"C:/Users/MSI/Desktop/Machine-Learning/images/final_output/\"+str(count)+\".png\",\"PNG\")\n",
    "    count+=1\n",
    "    # cv2.imwrite(str(i)+\".png\", img_in_np_array_format_using_opencv)\n"
   ]
  },
  {
   "cell_type": "code",
   "execution_count": null,
   "metadata": {},
   "outputs": [],
   "source": []
  }
 ],
 "metadata": {
  "kernelspec": {
   "display_name": ".venv",
   "language": "python",
   "name": "python3"
  },
  "language_info": {
   "codemirror_mode": {
    "name": "ipython",
    "version": 3
   },
   "file_extension": ".py",
   "mimetype": "text/x-python",
   "name": "python",
   "nbconvert_exporter": "python",
   "pygments_lexer": "ipython3",
   "version": "3.10.9"
  },
  "orig_nbformat": 4,
  "vscode": {
   "interpreter": {
    "hash": "4697689639937dc2b3a7c5eccd1e847f5bd57d2de22c47d3600f2afd687dd29f"
   }
  }
 },
 "nbformat": 4,
 "nbformat_minor": 2
}
