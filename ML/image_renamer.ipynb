{
 "cells": [
  {
   "cell_type": "code",
   "execution_count": 8,
   "metadata": {},
   "outputs": [
    {
     "name": "stdout",
     "output_type": "stream",
     "text": [
      "3287\n"
     ]
    }
   ],
   "source": [
    "from PIL import Image\n",
    "import  cv2\n",
    "import os\n",
    "import glob\n",
    "image_list = []\n",
    "image_path='C:/Users/MSI/Desktop/Machine-Learning/images/final_images_elon3'\n",
    "for filename in glob.glob(image_path+'/*/*.png', recursive=True): #assuming gif\n",
    "    im=Image.open(filename)\n",
    "    image_list.append(im)\n",
    "print(len(image_list))"
   ]
  },
  {
   "cell_type": "code",
   "execution_count": 9,
   "metadata": {},
   "outputs": [],
   "source": [
    "count=7011\n",
    "for i in image_list:\n",
    "    i.save(\"C:/Users/MSI/Desktop/Machine-Learning/images/final_output/\"+str(count)+\".png\",\"PNG\")\n",
    "    count+=1\n",
    "    # cv2.imwrite(str(i)+\".png\", img_in_np_array_format_using_opencv)"
   ]
  },
  {
   "cell_type": "code",
   "execution_count": null,
   "metadata": {},
   "outputs": [],
   "source": []
  },
  {
   "cell_type": "code",
   "execution_count": null,
   "metadata": {},
   "outputs": [],
   "source": []
  },
  {
   "cell_type": "code",
   "execution_count": 1,
   "metadata": {},
   "outputs": [],
   "source": [
    "def copy_images(directory):\n",
    "    image_list = []\n",
    "\n",
    "    for file_name in os.listdir(directory):\n",
    "        sub_dir_path = directory + '/' + file_name\n",
    "        if (os.path.isdir(sub_dir_path)):\n",
    "            for image_name in os.listdir(sub_dir_path):\n",
    "                if image_name[-4:] == '.png':\n",
    "                    img = cv2.imread(image_name)\n",
    "                    image_list.append(im)\n",
    "    return image_list\n",
    "                    # copied_image_path = new_directory + '/' + image_name\n",
    "                    # cv2.imwrite(copied_image_path, img)"
   ]
  },
  {
   "cell_type": "code",
   "execution_count": 2,
   "metadata": {},
   "outputs": [],
   "source": [
    "directory  = \"C:/Users/MSI/Desktop/Machine-Learning/images/final_images_elon\""
   ]
  },
  {
   "cell_type": "code",
   "execution_count": 3,
   "metadata": {},
   "outputs": [
    {
     "ename": "NameError",
     "evalue": "name 'cv2' is not defined",
     "output_type": "error",
     "traceback": [
      "\u001b[1;31m---------------------------------------------------------------------------\u001b[0m",
      "\u001b[1;31mNameError\u001b[0m                                 Traceback (most recent call last)",
      "Cell \u001b[1;32mIn[3], line 1\u001b[0m\n\u001b[1;32m----> 1\u001b[0m img_list  \u001b[39m=\u001b[39m copy_images(directory)\n",
      "Cell \u001b[1;32mIn[1], line 9\u001b[0m, in \u001b[0;36mcopy_images\u001b[1;34m(directory)\u001b[0m\n\u001b[0;32m      7\u001b[0m         \u001b[39mfor\u001b[39;00m image_name \u001b[39min\u001b[39;00m os\u001b[39m.\u001b[39mlistdir(sub_dir_path):\n\u001b[0;32m      8\u001b[0m             \u001b[39mif\u001b[39;00m image_name[\u001b[39m-\u001b[39m\u001b[39m4\u001b[39m:] \u001b[39m==\u001b[39m \u001b[39m'\u001b[39m\u001b[39m.png\u001b[39m\u001b[39m'\u001b[39m:\n\u001b[1;32m----> 9\u001b[0m                 img \u001b[39m=\u001b[39m cv2\u001b[39m.\u001b[39mimread(image_name)\n\u001b[0;32m     10\u001b[0m                 image_list\u001b[39m.\u001b[39mappend(im)\n\u001b[0;32m     11\u001b[0m \u001b[39mreturn\u001b[39;00m image_list\n",
      "\u001b[1;31mNameError\u001b[0m: name 'cv2' is not defined"
     ]
    }
   ],
   "source": [
    "img_list  = copy_images(directory)"
   ]
  },
  {
   "cell_type": "code",
   "execution_count": 5,
   "metadata": {},
   "outputs": [
    {
     "data": {
      "text/plain": [
       "10691"
      ]
     },
     "execution_count": 5,
     "metadata": {},
     "output_type": "execute_result"
    }
   ],
   "source": [
    "len(img_list)"
   ]
  },
  {
   "cell_type": "code",
   "execution_count": 6,
   "metadata": {},
   "outputs": [
    {
     "name": "stdout",
     "output_type": "stream",
     "text": [
      "Unexpected exception formatting exception. Falling back to standard exception\n"
     ]
    },
    {
     "name": "stderr",
     "output_type": "stream",
     "text": [
      "Traceback (most recent call last):\n",
      "  File \"c:\\Users\\MSI\\Desktop\\Machine-Learning\\.venv\\lib\\site-packages\\IPython\\core\\interactiveshell.py\", line 3442, in run_code\n",
      "  File \"C:\\Users\\MSI\\AppData\\Local\\Temp\\ipykernel_22188\\734889524.py\", line 3, in <module>\n",
      "    cv2.imwrite(\"C:/Users/MSI/Desktop/Machine-Learning/images/final_output/\"+str(count)+\".png\", i)\n",
      "cv2.error: OpenCV(4.7.0) :-1: error: (-5:Bad argument) in function 'imwrite'\n",
      "> Overload resolution failed:\n",
      ">  - img is not a numpy array, neither a scalar\n",
      ">  - Expected Ptr<cv::UMat> for argument 'img'\n",
      "\n",
      "\n",
      "During handling of the above exception, another exception occurred:\n",
      "\n",
      "Traceback (most recent call last):\n",
      "  File \"c:\\Users\\MSI\\Desktop\\Machine-Learning\\.venv\\lib\\site-packages\\IPython\\core\\interactiveshell.py\", line 2057, in showtraceback\n",
      "  File \"c:\\Users\\MSI\\Desktop\\Machine-Learning\\.venv\\lib\\site-packages\\IPython\\core\\ultratb.py\", line 1118, in structured_traceback\n",
      "  File \"c:\\Users\\MSI\\Desktop\\Machine-Learning\\.venv\\lib\\site-packages\\IPython\\core\\ultratb.py\", line 1012, in structured_traceback\n",
      "  File \"c:\\Users\\MSI\\Desktop\\Machine-Learning\\.venv\\lib\\site-packages\\IPython\\core\\ultratb.py\", line 865, in structured_traceback\n",
      "  File \"c:\\Users\\MSI\\Desktop\\Machine-Learning\\.venv\\lib\\site-packages\\IPython\\core\\ultratb.py\", line 799, in format_exception_as_a_whole\n",
      "  File \"c:\\Users\\MSI\\Desktop\\Machine-Learning\\.venv\\lib\\site-packages\\IPython\\core\\ultratb.py\", line 844, in get_records\n",
      "  File \"c:\\Users\\MSI\\Desktop\\Machine-Learning\\.venv\\lib\\site-packages\\pygments\\styles\\__init__.py\", line 82, in get_style_by_name\n",
      "  File \"<frozen importlib._bootstrap>\", line 1027, in _find_and_load\n",
      "  File \"<frozen importlib._bootstrap>\", line 1006, in _find_and_load_unlocked\n",
      "  File \"<frozen importlib._bootstrap>\", line 688, in _load_unlocked\n",
      "  File \"<frozen importlib._bootstrap_external>\", line 879, in exec_module\n",
      "  File \"<frozen importlib._bootstrap_external>\", line 1016, in get_code\n",
      "  File \"<frozen importlib._bootstrap_external>\", line 1073, in get_data\n",
      "OSError: [Errno 24] Too many open files: 'c:\\\\Users\\\\MSI\\\\Desktop\\\\Machine-Learning\\\\.venv\\\\lib\\\\site-packages\\\\pygments\\\\styles\\\\default.py'\n"
     ]
    }
   ],
   "source": [
    "count=1\n",
    "for i in image_list[]:\n",
    "    cv2.imwrite(\"C:/Users/MSI/Desktop/Machine-Learning/images/final_output/\"+str(count)+\".png\", i)\n",
    "    count+=1"
   ]
  }
 ],
 "metadata": {
  "kernelspec": {
   "display_name": ".venv",
   "language": "python",
   "name": "python3"
  },
  "language_info": {
   "codemirror_mode": {
    "name": "ipython",
    "version": 3
   },
   "file_extension": ".py",
   "mimetype": "text/x-python",
   "name": "python",
   "nbconvert_exporter": "python",
   "pygments_lexer": "ipython3",
   "version": "3.10.9"
  },
  "orig_nbformat": 4,
  "vscode": {
   "interpreter": {
    "hash": "4697689639937dc2b3a7c5eccd1e847f5bd57d2de22c47d3600f2afd687dd29f"
   }
  }
 },
 "nbformat": 4,
 "nbformat_minor": 2
}
